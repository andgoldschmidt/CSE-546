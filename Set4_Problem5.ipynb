{
 "cells": [
  {
   "cell_type": "code",
   "execution_count": 1,
   "metadata": {},
   "outputs": [],
   "source": [
    "%matplotlib inline"
   ]
  },
  {
   "cell_type": "code",
   "execution_count": 2,
   "metadata": {},
   "outputs": [],
   "source": [
    "import numpy as np\n",
    "import matplotlib.pyplot as plt"
   ]
  },
  {
   "cell_type": "code",
   "execution_count": 209,
   "metadata": {},
   "outputs": [],
   "source": [
    "import datetime"
   ]
  },
  {
   "cell_type": "code",
   "execution_count": 206,
   "metadata": {},
   "outputs": [],
   "source": [
    "import pickle\n",
    "from os.path import join\n",
    "\n",
    "# Assumes there is a .obj directory in the notebook folder\n",
    "def save_obj(obj, name, root=''):\n",
    "    with open(join(root, '.obj', name + '.pkl'), 'wb') as f:\n",
    "        pickle.dump(obj, f, pickle.HIGHEST_PROTOCOL)\n",
    "\n",
    "def load_obj(name, root=''):\n",
    "    with open(join(root, '.obj/', name + '.pkl'), 'rb') as f:\n",
    "        return pickle.load(f)"
   ]
  },
  {
   "cell_type": "markdown",
   "metadata": {},
   "source": [
    "We will use the CIFAR10 dataset. It has the classes: ‘airplane’, ‘automobile’, ‘bird’, ‘cat’, ‘deer’, ‘dog’, ‘frog’, ‘horse’, ‘ship’, ‘truck’. The images in CIFAR-10 are of size 3x32x32, i.e. 3-channel color images of 32x32 pixels in size.\n",
    "\n",
    "The iterable for training data is size 12500."
   ]
  },
  {
   "cell_type": "code",
   "execution_count": 4,
   "metadata": {},
   "outputs": [],
   "source": [
    "import torch\n",
    "import torchvision\n",
    "\n",
    "import torch.nn as nn\n",
    "import torch.nn.functional as F\n",
    "import torchvision.transforms as transforms\n",
    "import torch.optim as optim"
   ]
  },
  {
   "cell_type": "code",
   "execution_count": 5,
   "metadata": {},
   "outputs": [
    {
     "name": "stdout",
     "output_type": "stream",
     "text": [
      "Files already downloaded and verified\n",
      "Files already downloaded and verified\n"
     ]
    }
   ],
   "source": [
    "transform = transforms.Compose(\n",
    "    [transforms.ToTensor(),\n",
    "     transforms.Normalize((0.5, 0.5, 0.5), (0.5, 0.5, 0.5))])\n",
    "\n",
    "trainset = torchvision.datasets.CIFAR10(root='./data', train=True,\n",
    "                                        download=True, transform=transform)\n",
    "trainloader = torch.utils.data.DataLoader(trainset, batch_size=4,\n",
    "                                          shuffle=True, num_workers=2)\n",
    "\n",
    "testset = torchvision.datasets.CIFAR10(root='./data', train=False,\n",
    "                                       download=True, transform=transform)\n",
    "testloader = torch.utils.data.DataLoader(testset, batch_size=4,\n",
    "                                         shuffle=False, num_workers=2)\n",
    "\n",
    "classes = ('plane', 'car', 'bird', 'cat',\n",
    "           'deer', 'dog', 'frog', 'horse', 'ship', 'truck')"
   ]
  },
  {
   "cell_type": "markdown",
   "metadata": {},
   "source": [
    "Training an image classifier\n",
    "----------------------------\n",
    "\n",
    "We will do the following steps in order:\n",
    "\n",
    "1. Load and normalizing the CIFAR10 training and test datasets using\n",
    "   ``torchvision``\n",
    "2. Define a Convolution Neural Network\n",
    "3. Define a loss function\n",
    "4. Train the network on the training data\n",
    "5. Test the network on the test data"
   ]
  },
  {
   "cell_type": "code",
   "execution_count": 6,
   "metadata": {},
   "outputs": [],
   "source": [
    "def _num_flat_features(x):\n",
    "    size = x.size()[1:]  # all dimensions except the batch dimension\n",
    "    num_features = 1\n",
    "    for s in size:\n",
    "        num_features *= s\n",
    "    return num_features\n",
    "\n",
    "\n",
    "class Net_C(nn.Module):\n",
    "    def __init__(self, M, p, N):\n",
    "        '''\n",
    "        M is the number of output channels, p is the convolution kernel size, \n",
    "        N is the max pooling kernel (ideally, it is a divisor of 33-p)\n",
    "        '''\n",
    "        super(Net_C, self).__init__()\n",
    "        # 3 input image channel, M output channels, pxpx3 square convolution; bias=True is default\n",
    "        self.conv1 = nn.Conv2d(3, M, p)\n",
    "        self.pool1 = nn.MaxPool2d(N)\n",
    "        self.fc1 = nn.Linear(M*((33-p)//N)**2, 10)\n",
    "\n",
    "    def forward(self, x):\n",
    "        x = self.pool1(F.relu(self.conv1(x)))\n",
    "        x = x.view(-1, self.num_flat_features(x)) # 32 * 32 * 3\n",
    "        x = self.fc1(x)\n",
    "        return x\n",
    "    \n",
    "    def num_flat_features(self, x):\n",
    "        return _num_flat_features(x)\n",
    "    \n",
    "\n",
    "class Net_B(nn.Module):\n",
    "    def __init__(self, M):\n",
    "        super(Net_B, self).__init__()\n",
    "        self.fc1 = nn.Linear(32 * 32 * 3, M)\n",
    "        self.fc2 = nn.Linear(M, 10)\n",
    "\n",
    "    def forward(self, x):\n",
    "        x = x.view(-1, self.num_flat_features(x)) # 32 * 32 * 3\n",
    "        x = F.relu(self.fc1(x))\n",
    "        x = self.fc2(x)\n",
    "        return x\n",
    "\n",
    "    def num_flat_features(self, x):\n",
    "        return _num_flat_features(x)\n",
    "    \n",
    "\n",
    "class Net_A(nn.Module):\n",
    "    def __init__(self):\n",
    "        super(Net_A, self).__init__()\n",
    "        self.fc1 = nn.Linear(32 * 32 * 3, 10)\n",
    "\n",
    "    def forward(self, x):\n",
    "        x = x.view(-1, self.num_flat_features(x)) # 32 * 32 * 3\n",
    "        x = self.fc1(x) \n",
    "        return x\n",
    "    \n",
    "    def num_flat_features(self, x):\n",
    "        return _num_flat_features(x)"
   ]
  },
  {
   "cell_type": "code",
   "execution_count": 163,
   "metadata": {},
   "outputs": [],
   "source": [
    "def train_net(net, iter_trainloader, iter_testloader, criterion, optimizer, epochs):\n",
    "    '''\n",
    "    Trains net and returns epoch-wise test loss\n",
    "    '''\n",
    "    epochs_train_error = []\n",
    "    epochs_test_error = []\n",
    "    for epoch in range(epochs):  # loop over the dataset multiple times\n",
    "        # keep track of percentage correct\n",
    "        total = 0\n",
    "        correct = 0\n",
    "        for i, data in enumerate(iter_trainloader):\n",
    "            # get the inputs\n",
    "            inputs, labels = data\n",
    "\n",
    "            # zero the parameter gradients\n",
    "            optimizer.zero_grad()\n",
    "            \n",
    "            # forward + backward + optimize\n",
    "            outputs = net(inputs)\n",
    "            # (also do some percent error tallies... before optimization? sure.)\n",
    "            _, predicted = torch.max(outputs.data, 1)\n",
    "            total += labels.size(0)\n",
    "            correct += (predicted == labels).sum().item()\n",
    "            loss = criterion(outputs, labels)\n",
    "            loss.backward()\n",
    "            optimizer.step()\n",
    "        \n",
    "            # running calc of error occurs every 4000 mini-batches\n",
    "            if i % 4000 == 3999:\n",
    "                epochs_train_error.append([epoch, i, 100 * correct / total])\n",
    "                total = 0\n",
    "                correct = 0\n",
    "        \n",
    "        # Append the test errors for this epoch\n",
    "        epochs_test_error.append([epoch, 12500, test_net(net, iter_testloader, criterion)])\n",
    "    return epochs_train_error, epochs_test_error"
   ]
  },
  {
   "cell_type": "code",
   "execution_count": 164,
   "metadata": {},
   "outputs": [],
   "source": [
    "def test_net(net, iter_testloader, criterion):\n",
    "    with torch.no_grad():\n",
    "        correct = 0\n",
    "        total = 0\n",
    "        for data in iter_testloader:\n",
    "            images, labels = data\n",
    "            outputs = net(images)\n",
    "            _, predicted = torch.max(outputs.data, 1)\n",
    "            total += labels.size(0)\n",
    "            correct += (predicted == labels).sum().item()\n",
    "    return 100 * correct / total"
   ]
  },
  {
   "cell_type": "code",
   "execution_count": 24,
   "metadata": {},
   "outputs": [],
   "source": [
    "# Shared criterion for loss\n",
    "criterion_all = nn.CrossEntropyLoss()"
   ]
  },
  {
   "cell_type": "markdown",
   "metadata": {},
   "source": [
    "working with Network A\n",
    "---------------"
   ]
  },
  {
   "cell_type": "code",
   "execution_count": 202,
   "metadata": {},
   "outputs": [],
   "source": [
    "a_params = {  \n",
    "    'lr': 0.0001,\n",
    "    'momentum': 0.01,\n",
    "    'epochs': 10\n",
    "}"
   ]
  },
  {
   "cell_type": "code",
   "execution_count": 165,
   "metadata": {},
   "outputs": [],
   "source": [
    "netA = Net_A()"
   ]
  },
  {
   "cell_type": "code",
   "execution_count": 203,
   "metadata": {},
   "outputs": [],
   "source": [
    "# Declare some optimizer for Net A\n",
    "optimizerA = optim.SGD(netA.parameters(), lr=a_params['lr'], momentum=a_params['momentum'])"
   ]
  },
  {
   "cell_type": "code",
   "execution_count": 204,
   "metadata": {},
   "outputs": [
    {
     "name": "stdout",
     "output_type": "stream",
     "text": [
      "CPU times: user 16min 52s, sys: 53.4 s, total: 17min 45s\n",
      "Wall time: 9min 8s\n"
     ]
    }
   ],
   "source": [
    "%%time\n",
    "resA_train, resA_test = train_net(netA, trainloader, testloader, criterion_all, optimizerA, a_params['epochs'])"
   ]
  },
  {
   "cell_type": "code",
   "execution_count": 215,
   "metadata": {},
   "outputs": [],
   "source": [
    "# Save network and parameters (name with time-stamp and percent error)\n",
    "resA_train = np.array(resA_train)\n",
    "resA_test = np.array(resA_test)\n",
    "\n",
    "timestr = datetime.datetime.now().strftime(\"%Y%m%d-%H%M%S\")\n",
    "save_obj(name='netA_{}_{}'.format(int(resA_test[-1,2]), timestr), obj=[netA, resA_train, resA_test, a_params])"
   ]
  },
  {
   "cell_type": "code",
   "execution_count": 221,
   "metadata": {},
   "outputs": [
    {
     "data": {
      "image/png": "[encoded data removed]",
      "text/plain": [
       "<Figure size 432x288 with 1 Axes>"
      ]
     },
     "metadata": {
      "needs_background": "light"
     },
     "output_type": "display_data"
    }
   ],
   "source": [
    "fig, ax = plt.subplots(1)\n",
    "ax.plot(resA_train[:,0]*12500 + resA_train[:,1], resA_train[:,2], '--', c='k')\n",
    "ax.scatter(resA_test[:,0]*12500 + resA_test[:,1], resA_test[:,2], c='k')\n",
    "ax.set_xlabel('Step', fontsize=14)\n",
    "ax.set_ylabel('Accuracy (%)', fontsize=14)\n",
    "ax.legend(['Train accuracy', 'Test accuracy'], fontsize=14)\n",
    "fig.savefig('figs/hw5_p3a_{}.pdf'.format(timestr))"
   ]
  },
  {
   "cell_type": "markdown",
   "metadata": {},
   "source": [
    "working with Network B\n",
    "---------------"
   ]
  },
  {
   "cell_type": "code",
   "execution_count": 222,
   "metadata": {},
   "outputs": [],
   "source": [
    "b_params = {  \n",
    "    'lr': 0.0001,\n",
    "    'momentum': 0.01,\n",
    "    'M': 150,\n",
    "    'epochs': 1\n",
    "}"
   ]
  },
  {
   "cell_type": "code",
   "execution_count": 223,
   "metadata": {},
   "outputs": [],
   "source": [
    "netB = Net_B(b_params['M'])"
   ]
  },
  {
   "cell_type": "code",
   "execution_count": 224,
   "metadata": {},
   "outputs": [],
   "source": [
    "optimizerB = optim.SGD(netB.parameters(), lr=b_params['lr'], momentum=b_params['momentum'])"
   ]
  },
  {
   "cell_type": "code",
   "execution_count": 225,
   "metadata": {},
   "outputs": [
    {
     "name": "stdout",
     "output_type": "stream",
     "text": [
      "CPU times: user 3min 7s, sys: 6.79 s, total: 3min 14s\n",
      "Wall time: 1min 32s\n"
     ]
    }
   ],
   "source": [
    "%%time\n",
    "resB_train, resB_test = train_net(netB, trainloader, testloader, criterion_all, optimizerB, b_params['epochs'])"
   ]
  },
  {
   "cell_type": "code",
   "execution_count": 226,
   "metadata": {},
   "outputs": [],
   "source": [
    "# Save network and parameters (name with time-stamp and percent error)\n",
    "resB_train = np.array(resB_train)\n",
    "resB_test = np.array(resB_test)\n",
    "\n",
    "timestr = datetime.datetime.now().strftime(\"%Y%m%d-%H%M%S\")\n",
    "save_obj(name='netB_{}_{}'.format(int(resB_test[-1,2]), timestr), obj=[netB, resB_train, resB_test, b_params])"
   ]
  },
  {
   "cell_type": "code",
   "execution_count": 227,
   "metadata": {},
   "outputs": [
    {
     "data": {
      "image/png": "[encoded data removed]",
      "text/plain": [
       "<Figure size 432x288 with 1 Axes>"
      ]
     },
     "metadata": {
      "needs_background": "light"
     },
     "output_type": "display_data"
    }
   ],
   "source": [
    "fig, ax = plt.subplots(1)\n",
    "ax.plot(resB_train[:,0]*12500 + resB_train[:,1], resB_train[:,2], '--', c='k')\n",
    "ax.scatter(resB_test[:,0]*12500 + resB_test[:,1], resB_test[:,2], c='k')\n",
    "ax.set_xlabel('Step', fontsize=14)\n",
    "ax.set_ylabel('Accuracy (%)', fontsize=14)\n",
    "ax.legend(['Train accuracy', 'Test accuracy'], fontsize=14)\n",
    "fig.savefig('figs/hw5_p3b_{}.pdf'.format(timestr))"
   ]
  },
  {
   "cell_type": "markdown",
   "metadata": {},
   "source": [
    "working with Network C\n",
    "-----------------------"
   ]
  },
  {
   "cell_type": "code",
   "execution_count": 231,
   "metadata": {},
   "outputs": [],
   "source": [
    "c_params = {  \n",
    "    'lr': 0.0001,\n",
    "    'momentum': 0.01,\n",
    "    'M': 150,\n",
    "    'p': 6,\n",
    "    'N': 4,\n",
    "    'epochs': 1\n",
    "}"
   ]
  },
  {
   "cell_type": "code",
   "execution_count": 232,
   "metadata": {},
   "outputs": [],
   "source": [
    "netC = Net_C(c_params['M'], c_params['p'], c_params['N'])"
   ]
  },
  {
   "cell_type": "code",
   "execution_count": 233,
   "metadata": {},
   "outputs": [],
   "source": [
    "optimizerC = optim.SGD(netC.parameters(), lr=c_params['lr'], momentum=c_params['momentum'])"
   ]
  },
  {
   "cell_type": "code",
   "execution_count": null,
   "metadata": {},
   "outputs": [],
   "source": [
    "%%time\n",
    "resC_train, resC_test = train_net(netC, trainloader, testloader, criterion_all, optimizerC, c_params['epochs'])"
   ]
  },
  {
   "cell_type": "code",
   "execution_count": 139,
   "metadata": {},
   "outputs": [],
   "source": [
    "# Save network and parameters (name with time-stamp and percent error)\n",
    "resC_train = np.array(resC_train)\n",
    "resC_test = np.array(resC_test)\n",
    "\n",
    "timestr = datetime.datetime.now().strftime(\"%Y%m%d-%H%M%S\")\n",
    "save_obj(name='netA_{}_{}'.format(int(resC_test[-1,2]), timestr), obj=[netC, resC_train, resC_test, c_params])"
   ]
  },
  {
   "cell_type": "code",
   "execution_count": null,
   "metadata": {},
   "outputs": [],
   "source": [
    "fig, ax = plt.subplots(1)\n",
    "ax.plot(resC_train[:,0]*12500 + resC_train[:,1], resC_train[:,2], '--', c='k')\n",
    "ax.scatter(resC_test[:,0]*12500 + resC_test[:,1], resC_test[:,2], c='k')\n",
    "ax.set_xlabel('Step', fontsize=14)\n",
    "ax.set_ylabel('Accuracy (%)', fontsize=14)\n",
    "ax.legend(['Train accuracy', 'Test accuracy'], fontsize=14)\n",
    "fig.savefig('figs/hw5_p3b_{}.pdf'.format(timestr))"
   ]
  },
  {
   "cell_type": "markdown",
   "metadata": {},
   "source": [
    "Fun novelty functions \n",
    "------------"
   ]
  },
  {
   "cell_type": "code",
   "execution_count": 83,
   "metadata": {},
   "outputs": [],
   "source": [
    "def categorical_percent_error(net, iter_testloader):\n",
    "    class_correct = list(0. for i in range(10))\n",
    "    class_total = list(0. for i in range(10))\n",
    "    with torch.no_grad():\n",
    "        for data in testloader:\n",
    "            images, labels = data\n",
    "            outputs = net(images)\n",
    "            _, predicted = torch.max(outputs, 1)\n",
    "            c = (predicted == labels).squeeze()\n",
    "            for i in range(4):\n",
    "                label = labels[i]\n",
    "                class_correct[label] += c[i].item()\n",
    "                class_total[label] += 1\n",
    "\n",
    "\n",
    "    for i in range(10):\n",
    "        print('Accuracy of %5s : %2d %%' % (\n",
    "            classes[i], 100 * class_correct[i] / class_total[i]))"
   ]
  },
  {
   "cell_type": "code",
   "execution_count": 128,
   "metadata": {},
   "outputs": [
    {
     "name": "stdout",
     "output_type": "stream",
     "text": [
      "Accuracy of plane : 64 %\n",
      "Accuracy of   car : 71 %\n",
      "Accuracy of  bird : 43 %\n",
      "Accuracy of   cat : 33 %\n",
      "Accuracy of  deer : 50 %\n",
      "Accuracy of   dog : 44 %\n",
      "Accuracy of  frog : 75 %\n",
      "Accuracy of horse : 63 %\n",
      "Accuracy of  ship : 75 %\n",
      "Accuracy of truck : 55 %\n"
     ]
    }
   ],
   "source": [
    "categorical_percent_error(netC, testloader)"
   ]
  },
  {
   "cell_type": "code",
   "execution_count": 84,
   "metadata": {},
   "outputs": [
    {
     "name": "stdout",
     "output_type": "stream",
     "text": [
      "Accuracy of plane : 32 %\n",
      "Accuracy of   car : 50 %\n",
      "Accuracy of  bird : 17 %\n",
      "Accuracy of   cat : 25 %\n",
      "Accuracy of  deer : 17 %\n",
      "Accuracy of   dog : 29 %\n",
      "Accuracy of  frog : 32 %\n",
      "Accuracy of horse : 22 %\n",
      "Accuracy of  ship : 33 %\n",
      "Accuracy of truck : 10 %\n"
     ]
    }
   ],
   "source": [
    "categorical_percent_error(netA, testloader)"
   ]
  },
  {
   "cell_type": "code",
   "execution_count": null,
   "metadata": {},
   "outputs": [],
   "source": []
  }
 ],
 "metadata": {
  "kernelspec": {
   "display_name": "Python 3",
   "language": "python",
   "name": "python3"
  },
  "language_info": {
   "codemirror_mode": {
    "name": "ipython",
    "version": 3
   },
   "file_extension": ".py",
   "mimetype": "text/x-python",
   "name": "python",
   "nbconvert_exporter": "python",
   "pygments_lexer": "ipython3",
   "version": "3.7.1"
  }
 },
 "nbformat": 4,
 "nbformat_minor": 2
}
