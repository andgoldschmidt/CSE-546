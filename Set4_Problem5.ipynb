{
 "cells": [
  {
   "cell_type": "code",
   "execution_count": 1,
   "metadata": {},
   "outputs": [],
   "source": [
    "%matplotlib inline"
   ]
  },
  {
   "cell_type": "code",
   "execution_count": 2,
   "metadata": {},
   "outputs": [],
   "source": [
    "import numpy as np\n",
    "import matplotlib.pyplot as plt"
   ]
  },
  {
   "cell_type": "code",
   "execution_count": 3,
   "metadata": {},
   "outputs": [],
   "source": [
    "import pickle\n",
    "from os.path import join\n",
    "\n",
    "# Assumes there is a .obj directory in the notebook folder\n",
    "def save_obj(obj, name, root=''):\n",
    "    with open(join(root, '.obj', name + '.pkl'), 'wb') as f:\n",
    "        pickle.dump(obj, f, pickle.HIGHEST_PROTOCOL)\n",
    "\n",
    "def load_obj(name, root=''):\n",
    "    with open(join(root, '.obj/', name + '.pkl'), 'rb') as f:\n",
    "        return pickle.load(f)"
   ]
  },
  {
   "cell_type": "markdown",
   "metadata": {},
   "source": [
    "We will use the CIFAR10 dataset. It has the classes: ‘airplane’, ‘automobile’, ‘bird’, ‘cat’, ‘deer’, ‘dog’, ‘frog’, ‘horse’, ‘ship’, ‘truck’. The images in CIFAR-10 are of size 3x32x32, i.e. 3-channel color images of 32x32 pixels in size."
   ]
  },
  {
   "cell_type": "code",
   "execution_count": 4,
   "metadata": {},
   "outputs": [],
   "source": [
    "import torch\n",
    "import torchvision\n",
    "\n",
    "import torch.nn as nn\n",
    "import torch.nn.functional as F\n",
    "import torchvision.transforms as transforms\n",
    "import torch.optim as optim"
   ]
  },
  {
   "cell_type": "code",
   "execution_count": 5,
   "metadata": {},
   "outputs": [
    {
     "name": "stdout",
     "output_type": "stream",
     "text": [
      "Files already downloaded and verified\n",
      "Files already downloaded and verified\n"
     ]
    }
   ],
   "source": [
    "transform = transforms.Compose(\n",
    "    [transforms.ToTensor(),\n",
    "     transforms.Normalize((0.5, 0.5, 0.5), (0.5, 0.5, 0.5))])\n",
    "\n",
    "trainset = torchvision.datasets.CIFAR10(root='./data', train=True,\n",
    "                                        download=True, transform=transform)\n",
    "trainloader = torch.utils.data.DataLoader(trainset, batch_size=4,\n",
    "                                          shuffle=True, num_workers=2)\n",
    "\n",
    "testset = torchvision.datasets.CIFAR10(root='./data', train=False,\n",
    "                                       download=True, transform=transform)\n",
    "testloader = torch.utils.data.DataLoader(testset, batch_size=4,\n",
    "                                         shuffle=False, num_workers=2)\n",
    "\n",
    "classes = ('plane', 'car', 'bird', 'cat',\n",
    "           'deer', 'dog', 'frog', 'horse', 'ship', 'truck')"
   ]
  },
  {
   "cell_type": "code",
   "execution_count": 20,
   "metadata": {},
   "outputs": [
    {
     "data": {
      "text/plain": [
       "12500"
      ]
     },
     "execution_count": 20,
     "metadata": {},
     "output_type": "execute_result"
    }
   ],
   "source": [
    "len(trainloader)"
   ]
  },
  {
   "cell_type": "markdown",
   "metadata": {},
   "source": [
    "Training an image classifier\n",
    "----------------------------\n",
    "\n",
    "We will do the following steps in order:\n",
    "\n",
    "1. Load and normalizing the CIFAR10 training and test datasets using\n",
    "   ``torchvision``\n",
    "2. Define a Convolution Neural Network\n",
    "3. Define a loss function\n",
    "4. Train the network on the training data\n",
    "5. Test the network on the test data"
   ]
  },
  {
   "cell_type": "code",
   "execution_count": 6,
   "metadata": {},
   "outputs": [],
   "source": [
    "def _num_flat_features(x):\n",
    "    size = x.size()[1:]  # all dimensions except the batch dimension\n",
    "    num_features = 1\n",
    "    for s in size:\n",
    "        num_features *= s\n",
    "    return num_features\n",
    "\n",
    "\n",
    "class Net_C(nn.Module):\n",
    "    def __init__(self, M, p, N):\n",
    "        '''\n",
    "        M is the number of output channels, p is the convolution kernel size, \n",
    "        N is the max pooling kernel (ideally, it is a divisor of 33-p)\n",
    "        '''\n",
    "        super(Net_C, self).__init__()\n",
    "        # 3 input image channel, M output channels, pxpx3 square convolution; bias=True is default\n",
    "        self.conv1 = nn.Conv2d(3, M, p)\n",
    "        self.pool1 = nn.MaxPool2d(N)\n",
    "        self.fc1 = nn.Linear(M*((33-p)//N)**2, 10)\n",
    "\n",
    "    def forward(self, x):\n",
    "        x = self.pool1(F.relu(self.conv1(x)))\n",
    "        x = x.view(-1, self.num_flat_features(x)) # 32 * 32 * 3\n",
    "        x = self.fc1(x)\n",
    "        return x\n",
    "    \n",
    "    def num_flat_features(self, x):\n",
    "        return _num_flat_features(x)\n",
    "    \n",
    "\n",
    "class Net_B(nn.Module):\n",
    "    def __init__(self, M):\n",
    "        super(Net_B, self).__init__()\n",
    "        self.fc1 = nn.Linear(32 * 32 * 3, M)\n",
    "        self.fc2 = nn.Linear(M, 10)\n",
    "\n",
    "    def forward(self, x):\n",
    "        x = x.view(-1, self.num_flat_features(x)) # 32 * 32 * 3\n",
    "        x = F.relu(self.fc1(x))\n",
    "        x = self.fc2(x)\n",
    "        return x\n",
    "\n",
    "    def num_flat_features(self, x):\n",
    "        return _num_flat_features(x)\n",
    "    \n",
    "\n",
    "class Net_A(nn.Module):\n",
    "    def __init__(self):\n",
    "        super(Net_A, self).__init__()\n",
    "        self.fc1 = nn.Linear(32 * 32 * 3, 10)\n",
    "\n",
    "    def forward(self, x):\n",
    "        x = x.view(-1, self.num_flat_features(x)) # 32 * 32 * 3\n",
    "        x = self.fc1(x) \n",
    "        return x\n",
    "    \n",
    "    def num_flat_features(self, x):\n",
    "        return _num_flat_features(x)"
   ]
  },
  {
   "cell_type": "code",
   "execution_count": 48,
   "metadata": {},
   "outputs": [],
   "source": [
    "def train_net(net, iter_trainloader, criterion, optimizer, epochs, iter_testloader=None):\n",
    "    '''\n",
    "    Trains net and returns epoch-wise test loss\n",
    "    '''\n",
    "    epochs_train_loss = []\n",
    "    epochs_test_loss = []\n",
    "    for epoch in range(epochs):  # loop over the dataset multiple times\n",
    "        running_loss = 0.0\n",
    "        size = 0\n",
    "        for i, data in enumerate(iter_trainloader):\n",
    "            # get the inputs\n",
    "            inputs, labels = data\n",
    "\n",
    "            # zero the parameter gradients\n",
    "            optimizer.zero_grad()\n",
    "\n",
    "            # forward + backward + optimize\n",
    "            outputs = net(inputs)\n",
    "            loss = criterion(outputs, labels)\n",
    "            loss.backward()\n",
    "            optimizer.step()\n",
    "\n",
    "            # print statistics\n",
    "            running_loss += loss.item()\n",
    "            if i % 4000 == 3999:    # print every 4000 mini-batches\n",
    "                epochs_train_loss.append([epoch, i, running_loss / 4000])\n",
    "                running_loss = 0.0\n",
    "            size+=1\n",
    "        if iter_testloader:\n",
    "            test_loss,_ = test_net(netA, iter_testloader, criterion)\n",
    "            epochs_test_loss.append([epoch, size, test_loss])\n",
    "    return epochs_train_loss, epochs_test_loss"
   ]
  },
  {
   "cell_type": "code",
   "execution_count": 49,
   "metadata": {},
   "outputs": [],
   "source": [
    "def test_net(net, iter_testloader, criterion):\n",
    "    with torch.no_grad():\n",
    "        correct = 0\n",
    "        total = 0\n",
    "        test_loss = 0.0\n",
    "        size = 0\n",
    "        for data in iter_testloader:\n",
    "            images, labels = data\n",
    "            outputs = net(images)\n",
    "            loss = criterion(outputs, labels)\n",
    "            _, predicted = torch.max(outputs.data, 1)\n",
    "            # Sum statistics\n",
    "            test_loss += loss.item()\n",
    "            total += labels.size(0)\n",
    "            correct += (predicted == labels).sum().item()\n",
    "            size += 1\n",
    "    return test_loss / size, 100 * correct / total"
   ]
  },
  {
   "cell_type": "code",
   "execution_count": 50,
   "metadata": {},
   "outputs": [],
   "source": [
    "def percent_accuracy(net, iter_testloader):\n",
    "    correct = 0\n",
    "    total = 0\n",
    "    with torch.no_grad():\n",
    "        for data in testloader:\n",
    "            images, labels = data\n",
    "            outputs = net(images)\n",
    "            _, predicted = torch.max(outputs.data, 1)\n",
    "            total += labels.size(0)\n",
    "            correct += (predicted == labels).sum().item()\n",
    "    return 100 * correct / total"
   ]
  },
  {
   "cell_type": "code",
   "execution_count": 24,
   "metadata": {},
   "outputs": [],
   "source": [
    "# Shared criterion for loss\n",
    "criterion_all = nn.CrossEntropyLoss()"
   ]
  },
  {
   "cell_type": "markdown",
   "metadata": {},
   "source": [
    "Making sure everything works...\n",
    "-----------"
   ]
  },
  {
   "cell_type": "code",
   "execution_count": 12,
   "metadata": {},
   "outputs": [],
   "source": [
    "# # Create new NN's, print\n",
    "# # netA = Net_A()\n",
    "# # netB = Net_B(100)\n",
    "# # netC = Net_C(100, 5, 2)\n",
    "# print(netA)\n",
    "# print(netB)\n",
    "# print(netC)"
   ]
  },
  {
   "cell_type": "code",
   "execution_count": 16,
   "metadata": {},
   "outputs": [],
   "source": [
    "# # This code made sure the NN's functioned correctly\n",
    "test_input = torch.randn(4, 3, 32, 32)\n",
    "# for inet in [netB]:\n",
    "#     out = inet(test_input)\n",
    "#     print(out)"
   ]
  },
  {
   "cell_type": "markdown",
   "metadata": {},
   "source": [
    "working with Network A\n",
    "---------------"
   ]
  },
  {
   "cell_type": "code",
   "execution_count": 96,
   "metadata": {},
   "outputs": [],
   "source": [
    "netA = Net_A()\n",
    "resA=[]"
   ]
  },
  {
   "cell_type": "code",
   "execution_count": 104,
   "metadata": {},
   "outputs": [],
   "source": [
    "# Declare some optimizer for Net A\n",
    "optimizerA = optim.SGD(netA.parameters(), lr=0.0001, momentum=0.01)"
   ]
  },
  {
   "cell_type": "code",
   "execution_count": 105,
   "metadata": {},
   "outputs": [
    {
     "name": "stdout",
     "output_type": "stream",
     "text": [
      "CPU times: user 16min 52s, sys: 51.9 s, total: 17min 44s\n",
      "Wall time: 9min 3s\n"
     ]
    }
   ],
   "source": [
    "%%time\n",
    "resA_train, resA_test = train_net(netA, trainloader, criterion_all, optimizerA, 10, testloader)"
   ]
  },
  {
   "cell_type": "code",
   "execution_count": 106,
   "metadata": {},
   "outputs": [
    {
     "name": "stdout",
     "output_type": "stream",
     "text": [
      "train:\t 1.709, 1.652, 1.614, 1.605, 1.589, 1.595, 1.585, 1.563, 1.584, 1.567, 1.561, 1.572, 1.562, 1.581, 1.545, 1.556, 1.573, 1.546, 1.554, 1.544, 1.570, 1.548, 1.547, 1.561, 1.547, 1.544, 1.561, 1.533, 1.557, 1.556\n",
      "test:\t 1.900, 1.874, 1.865, 1.856, 1.850, 1.847, 1.843, 1.841, 1.839, 1.837\n",
      "test:\t 1.837\n",
      "38% accuracy on 10000 test images.\n"
     ]
    }
   ],
   "source": [
    "print('train:\\t', ', '.join(['%.3f' % i[2] for i in resA_train]))\n",
    "print('test:\\t', ', '.join(['%.3f' % i[2] for i in resA_test]))\n",
    "loss, percent = test_net(netA, testloader, criterion_all)\n",
    "print('test:\\t', '%.3f' % loss )\n",
    "print('%d%% accuracy on 10000 test images.' % percent)"
   ]
  },
  {
   "cell_type": "code",
   "execution_count": 118,
   "metadata": {},
   "outputs": [],
   "source": [
    "_, resA_train_0, resA_test_0 = load_obj('netA_20epoch_01_01')"
   ]
  },
  {
   "cell_type": "code",
   "execution_count": 119,
   "metadata": {},
   "outputs": [
    {
     "name": "stdout",
     "output_type": "stream",
     "text": [
      "train:\t 2.038, 2.047, 2.053, 2.000, 2.073, 2.060, 1.996, 2.045, 2.080, 2.006, 2.037, 2.070, 2.001, 2.049, 2.059, 2.010, 2.044, 2.041, 2.000, 2.052, 2.047, 2.012, 2.029, 2.037, 1.998, 2.043, 2.046, 2.006, 2.041, 2.041\n",
      "test:\t 2.304, 2.279, 2.213, 2.132, 2.235, 2.123, 2.230, 2.245, 2.264, 2.228\n"
     ]
    }
   ],
   "source": [
    "print('train:\\t', ', '.join(['%.3f' % i[2] for i in resA_train_0]))\n",
    "print('test:\\t', ', '.join(['%.3f' % i[2] for i in resA_test_0]))"
   ]
  },
  {
   "cell_type": "code",
   "execution_count": 120,
   "metadata": {},
   "outputs": [],
   "source": [
    "resA_train_0 = np.array(resA_train_0)\n",
    "resA_test_0 = np.array(resA_test_0)\n",
    "resA_train = np.array(resA_train)\n",
    "resA_test = np.array(resA_test)"
   ]
  },
  {
   "cell_type": "code",
   "execution_count": 137,
   "metadata": {},
   "outputs": [
    {
     "data": {
      "image/png": "[encoded data removed]",
      "text/plain": [
       "<Figure size 432x288 with 1 Axes>"
      ]
     },
     "metadata": {
      "needs_background": "light"
     },
     "output_type": "display_data"
    }
   ],
   "source": [
    "plt.plot(resA_train_0[:,0]*12500 + resA_train_0[:,1], resA_train_0[:,2])\n",
    "prev = np.max(resA_train_0[:,0]*12500 + resA_train_0[:,1])\n",
    "plt.plot(prev + resA_train[:,0]*12500 + resA_train[:,1], resA_train[:,2])\n",
    "\n",
    "plt.scatter(resA_test_0[:,0]*12500, resA_test_0[:,2])\n",
    "prev_test = np.max((resA_test_0[:,0]+1)*12500)\n",
    "plt.scatter(prev_test + resA_test[:,0]*12500, resA_test[:,2])\n",
    "plt.xlabel('Step', fontsize=14)\n",
    "plt.ylabel('Loss', fontsize=14)\n",
    "plt.savefig('figs/p5_net_a.pdf')"
   ]
  },
  {
   "cell_type": "code",
   "execution_count": 107,
   "metadata": {},
   "outputs": [],
   "source": [
    "# save_obj(name='netA_20epoch_0001_01', obj=[netA, resA_train, resA_test])"
   ]
  },
  {
   "cell_type": "markdown",
   "metadata": {},
   "source": [
    "Comments:\n",
    "\n",
    "optimizerA = optim.SGD(netA.parameters(), lr=0.01, momentum=0.001)\n",
    "train:\t 2.201, 2.173, 2.162, 2.105, 2.129, 2.154, 2.112, 2.089, 2.101, 2.063, 2.094, 2.108, 2.061, 2.094, 2.080, 2.056, 2.071, 2.094, 2.037, 2.086, 2.079, 2.040, 2.065, 2.071, 2.021, 2.079, 2.063, 2.038, 2.043, 2.061\n",
    "test:\t 2.264, 2.223, 2.224, 2.263, 2.185, 2.196, 2.071, 2.293, 2.144, 2.279\n",
    "test:\t 2.279\n",
    "33% accuracy on 10000 test images.\n",
    "\n",
    "optimizerA = optim.SGD(netA.parameters(), lr=0.212, momentum=0.841)\n",
    "train:\t 175.991, 184.557, 185.608, 179.114, 184.203, 181.720, 178.520, 182.050, 186.387, 177.853, 184.370, 181.839, 173.380, 181.109, 182.531, 173.967, 177.103, 180.946, 173.629, 176.575, 180.742, 176.386, 176.638, 176.180, 176.842, 178.391, 181.318, 174.182, 177.223, 178.008\n",
    "test:\t 204.613, 188.560, 183.347, 186.685, 169.764, 200.698, 214.378, 189.993, 182.198, 188.476\n",
    "test:\t 188.476\n",
    "27% accuracy on 10000 test images.\n",
    "\n",
    "optimizerA = optim.SGD(netA.parameters(), lr=0.0831, momentum=0.945)\n",
    "train:\t 317.963, 262.889, 249.661, 228.552, 228.060, 223.247, 211.591, 216.781, 212.178, 205.501, 209.789, 208.317, 204.507, 206.900, 202.755, 196.580, 207.313, 204.035, 202.587, 202.032, 199.665, 199.495, 197.132, 206.281, 193.820, 207.734, 205.755, 199.321, 199.586, 201.819\n",
    "test:\t 272.428, 248.242, 233.457, 217.928, 218.635, 235.688, 224.741, 258.207, 239.864, 199.299\n",
    "test:\t 199.299\n",
    "29% accuracy on 10000 test images.\n",
    "\n",
    "lr = 0.05, p = .9\n",
    "train:\t 79.920, 76.249, 73.668, 71.825, 70.093, 69.397\n",
    "test:\t 76.059\n",
    "28% accuracy on 10000 test images.\n",
    "CPU times: user 3min 1s, sys: 8.29 s, total: 3min 10s\n",
    "Wall time: 1min 29s\n",
    "\n",
    "3 miuntes for 2 epochs => 15 minutes for 10 epochs\n",
    "\n",
    "If 3 hours alloted, number of random guesses allowed: 4*3 = 12"
   ]
  },
  {
   "cell_type": "markdown",
   "metadata": {},
   "source": [
    "working with Network B\n",
    "---------------"
   ]
  },
  {
   "cell_type": "code",
   "execution_count": 118,
   "metadata": {},
   "outputs": [],
   "source": [
    "netB = Net_B(400)\n",
    "resB=[]"
   ]
  },
  {
   "cell_type": "code",
   "execution_count": 119,
   "metadata": {},
   "outputs": [],
   "source": [
    "optimizerB = optim.SGD(netB.parameters(), lr=0.01, momentum=0.7)"
   ]
  },
  {
   "cell_type": "code",
   "execution_count": 120,
   "metadata": {},
   "outputs": [
    {
     "data": {
      "text/plain": [
       "tensor([[ 0.4090, -0.0641,  0.0474, -0.1546,  0.2635,  0.1513,  0.3057, -0.3078,\n",
       "         -0.2881,  0.1360],\n",
       "        [-0.1789, -0.2995, -0.0761,  0.1897,  0.1121,  0.3744,  0.0944, -0.1846,\n",
       "         -0.1328, -0.1426],\n",
       "        [-0.0523, -0.0421, -0.3660,  0.0535, -0.1048,  0.1844, -0.0085, -0.0769,\n",
       "         -0.2485, -0.0773],\n",
       "        [-0.0363, -0.0456,  0.4121, -0.3898, -0.1444,  0.0878,  0.1636, -0.3042,\n",
       "         -0.1371,  0.0013]], grad_fn=<ThAddmmBackward>)"
      ]
     },
     "execution_count": 120,
     "metadata": {},
     "output_type": "execute_result"
    }
   ],
   "source": [
    "netB(test_input)"
   ]
  },
  {
   "cell_type": "code",
   "execution_count": 121,
   "metadata": {},
   "outputs": [
    {
     "name": "stdout",
     "output_type": "stream",
     "text": [
      "train:\t 2.036, 2.048\n",
      "test:\t 2.109\n",
      "38% accuracy on 10000 test images.\n",
      "CPU times: user 12min 4s, sys: 14.7 s, total: 12min 18s\n",
      "Wall time: 5min 31s\n"
     ]
    }
   ],
   "source": [
    "%%time\n",
    "resB.extend(train_net(netB, trainloader, criterion_all, optimizerB, 2))\n",
    "print('train:\\t', ', '.join(['%.3f' % i for i in resB]))\n",
    "loss, percent = test_net(netB, testloader, criterion_all)\n",
    "print('test:\\t', '%.3f' % loss )\n",
    "print('%d%% accuracy on 10000 test images.' % percent)"
   ]
  },
  {
   "cell_type": "markdown",
   "metadata": {},
   "source": [
    "Comments:\n",
    "\n",
    "m=100,lr=.01,p=[0.5,.7]\n",
    "train:\t 1.916, 1.851\n",
    "test:\t 1.988\n",
    "37% accuracy on 10000 test images.\n",
    "CPU times: user 4min 57s, sys: 11.4 s, total: 5min 8s\n",
    "Wall time: 2min 23s\n",
    "\n",
    "Why did B report nan for solutions with lr = 0.05 and p = .9? That's garbage.\n",
    "Tried .1. Still garbage. So can't learn too quickly.\n",
    "I tried  with lr = .01 and p=0.5 and it converged nicely.\n",
    "I tried it with lr=0.001, momentum=0.5 and I got answers but it never moved.\n",
    "\n",
    "Similar time for A and B: B was 2min 21s for lr = .01 and p=.5 and M = 100\n",
    "When M=400, this time went to: 5 minutes"
   ]
  },
  {
   "cell_type": "markdown",
   "metadata": {},
   "source": [
    "working with Network C\n",
    "-----------------------"
   ]
  },
  {
   "cell_type": "code",
   "execution_count": 129,
   "metadata": {},
   "outputs": [],
   "source": [
    "netC = Net_C(100, 6, 4)\n",
    "resC=[]"
   ]
  },
  {
   "cell_type": "code",
   "execution_count": 130,
   "metadata": {},
   "outputs": [],
   "source": [
    "netC(test_input);"
   ]
  },
  {
   "cell_type": "code",
   "execution_count": 131,
   "metadata": {},
   "outputs": [],
   "source": [
    "optimizerC = optim.SGD(netC.parameters(), lr=0.01, momentum=0.5)"
   ]
  },
  {
   "cell_type": "code",
   "execution_count": 138,
   "metadata": {},
   "outputs": [
    {
     "name": "stdout",
     "output_type": "stream",
     "text": [
      "train:\t 1.392, 1.223, 1.173, 1.140, 1.109, 1.086, 1.062, 1.047\n",
      "test:\t 1.336\n",
      "60% accuracy on 10000 test images.\n",
      "CPU times: user 10min 45s, sys: 12.7 s, total: 10min 58s\n",
      "Wall time: 4min 42s\n"
     ]
    }
   ],
   "source": [
    "%%time\n",
    "resC.extend(train_net(netC, trainloader, criterion_all, optimizerC, 2))\n",
    "print('train:\\t', ', '.join(['%.3f' % i for i in resC]))\n",
    "loss, percent = test_net(netC, testloader, criterion_all)\n",
    "print('test:\\t', '%.3f' % loss )\n",
    "print('%d%% accuracy on 10000 test images.' % percent)"
   ]
  },
  {
   "cell_type": "code",
   "execution_count": 139,
   "metadata": {},
   "outputs": [],
   "source": [
    "save_obj(name='netC_lr01_m5_100_6_4', obj=[netC, resC])"
   ]
  },
  {
   "cell_type": "markdown",
   "metadata": {},
   "source": [
    "Comments:\n",
    "\n",
    "Training lr=0.01, p=.5 on Net_C(100, 5, 2) gives time of 6 minutes. Errors were at ~1.2 at 2 epochs. \n",
    "\n",
    "netC = Net_C(100, 6, 4)\n",
    "lr=0.01, momentum=0.5\n",
    "train:\t 1.392, 1.223\n",
    "test:\t 1.404\n",
    "55% accuracy on 10000 test images.\n",
    "CPU times: user 11min 35s, sys: 13.5 s, total: 11min 48s\n",
    "Wall time: 5min 5s"
   ]
  },
  {
   "cell_type": "markdown",
   "metadata": {},
   "source": [
    "Fun novelty functions \n",
    "------------"
   ]
  },
  {
   "cell_type": "code",
   "execution_count": 83,
   "metadata": {},
   "outputs": [],
   "source": [
    "def categorical_percent_error(net, iter_testloader):\n",
    "    class_correct = list(0. for i in range(10))\n",
    "    class_total = list(0. for i in range(10))\n",
    "    with torch.no_grad():\n",
    "        for data in testloader:\n",
    "            images, labels = data\n",
    "            outputs = net(images)\n",
    "            _, predicted = torch.max(outputs, 1)\n",
    "            c = (predicted == labels).squeeze()\n",
    "            for i in range(4):\n",
    "                label = labels[i]\n",
    "                class_correct[label] += c[i].item()\n",
    "                class_total[label] += 1\n",
    "\n",
    "\n",
    "    for i in range(10):\n",
    "        print('Accuracy of %5s : %2d %%' % (\n",
    "            classes[i], 100 * class_correct[i] / class_total[i]))"
   ]
  },
  {
   "cell_type": "code",
   "execution_count": 128,
   "metadata": {},
   "outputs": [
    {
     "name": "stdout",
     "output_type": "stream",
     "text": [
      "Accuracy of plane : 64 %\n",
      "Accuracy of   car : 71 %\n",
      "Accuracy of  bird : 43 %\n",
      "Accuracy of   cat : 33 %\n",
      "Accuracy of  deer : 50 %\n",
      "Accuracy of   dog : 44 %\n",
      "Accuracy of  frog : 75 %\n",
      "Accuracy of horse : 63 %\n",
      "Accuracy of  ship : 75 %\n",
      "Accuracy of truck : 55 %\n"
     ]
    }
   ],
   "source": [
    "categorical_percent_error(netC, testloader)"
   ]
  },
  {
   "cell_type": "code",
   "execution_count": 84,
   "metadata": {},
   "outputs": [
    {
     "name": "stdout",
     "output_type": "stream",
     "text": [
      "Accuracy of plane : 32 %\n",
      "Accuracy of   car : 50 %\n",
      "Accuracy of  bird : 17 %\n",
      "Accuracy of   cat : 25 %\n",
      "Accuracy of  deer : 17 %\n",
      "Accuracy of   dog : 29 %\n",
      "Accuracy of  frog : 32 %\n",
      "Accuracy of horse : 22 %\n",
      "Accuracy of  ship : 33 %\n",
      "Accuracy of truck : 10 %\n"
     ]
    }
   ],
   "source": [
    "categorical_percent_error(netA, testloader)"
   ]
  },
  {
   "cell_type": "code",
   "execution_count": null,
   "metadata": {},
   "outputs": [],
   "source": []
  }
 ],
 "metadata": {
  "kernelspec": {
   "display_name": "Python 3",
   "language": "python",
   "name": "python3"
  },
  "language_info": {
   "codemirror_mode": {
    "name": "ipython",
    "version": 3
   },
   "file_extension": ".py",
   "mimetype": "text/x-python",
   "name": "python",
   "nbconvert_exporter": "python",
   "pygments_lexer": "ipython3",
   "version": "3.7.1"
  }
 },
 "nbformat": 4,
 "nbformat_minor": 2
}
