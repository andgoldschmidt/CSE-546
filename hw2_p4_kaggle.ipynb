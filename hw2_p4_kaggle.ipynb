{
 "cells": [
  {
   "cell_type": "code",
   "execution_count": 2,
   "metadata": {},
   "outputs": [],
   "source": [
    "import numpy as np\n",
    "import matplotlib.pyplot as plt"
   ]
  },
  {
   "cell_type": "code",
   "execution_count": 15,
   "metadata": {},
   "outputs": [],
   "source": [
    "def compute_objective(X, y, w, b, penalty):\n",
    "    return np.sum(np.square(X@w+b-y)) + penalty*np.sum(np.abs(w))\n",
    "\n",
    "def update_b(X,y,w):\n",
    "    n,_ = X.shape\n",
    "    return np.sum(y - X@w)/n\n",
    "\n",
    "def max_penalty(X,y):\n",
    "    return 2*np.max(np.abs(X.T@(y-np.mean(y))))\n",
    "\n",
    "def lasso_coordinate_descent(X,y,w0,penalty,tol, debug=False):\n",
    "    n,d = X.shape\n",
    "    a = np.zeros(d)\n",
    "    c = np.zeros(d)\n",
    "    w_new = np.copy(w0)\n",
    "    \n",
    "    gradient_descending = True\n",
    "    while gradient_descending:\n",
    "        w_old = np.copy(w_new)\n",
    "        b = update_b(X,y,w_new)\n",
    "        for k in range(d):\n",
    "            a[k] = 2*np.sum(np.power(X[:,k],2))\n",
    "            c[k] = np.sum(X[:,k]*(y - (b + X@w_new - X[:,k]*w_new[k])))\n",
    "            \n",
    "            if c[k] > penalty:\n",
    "                w_new[k] = (c[k] - penalty)/a[k]\n",
    "            elif c[k] < -penalty:\n",
    "                w_new[k] = (c[k] + penalty)/a[k]\n",
    "            else:\n",
    "                w_new[k] = 0\n",
    "                \n",
    "        if debug:\n",
    "            obj = compute_objective(X, y, w_new, b, penalty)\n",
    "            print('obj: {}, w: {}'.format(obj, np.max(np.abs(w_new - w_old))))\n",
    "        # ... if you're not moving more than tol in any component, exit\n",
    "        gradient_descending = np.max(np.abs(w_new - w_old)) > tol\n",
    "    return w_new,b"
   ]
  },
  {
   "cell_type": "code",
   "execution_count": 12,
   "metadata": {},
   "outputs": [],
   "source": [
    "# Load a csv of floats:\n",
    "X = np.genfromtxt(r\"./datak/upvote_data.csv\", delimiter=\",\")\n",
    "# Load a text file of integers:\n",
    "y = np.loadtxt(r\"./datak/upvote_labels.txt\", dtype=np.int)\n",
    "y = np.sqrt(y)\n",
    "# Load a text file of strings:\n",
    "featureNames = open(r\"./datak/upvote_features.txt\").read().splitlines()"
   ]
  },
  {
   "cell_type": "code",
   "execution_count": 13,
   "metadata": {},
   "outputs": [],
   "source": [
    "Xtrain = X[:4000,:]\n",
    "Xval = X[4000:5000,:]\n",
    "Xtest = X[5000:,:]\n",
    "\n",
    "ytrain = y[:4000]\n",
    "yval = y[4000:5000]\n",
    "ytest = y[5000:]"
   ]
  },
  {
   "cell_type": "code",
   "execution_count": 29,
   "metadata": {},
   "outputs": [],
   "source": [
    "n,d = Xtrain.shape"
   ]
  },
  {
   "cell_type": "code",
   "execution_count": 34,
   "metadata": {},
   "outputs": [],
   "source": [
    "pList = [max_penalty(Xtrain,ytrain)/np.power(3,i) for i in range(9)]\n",
    "wList = np.zeros([len(pList)+1,d])\n",
    "bList = np.zeros(len(pList)+1)\n",
    "wList[0] = np.zeros(d) # we're starting with a penalty that zeros the weights\n",
    "bList[0] = 0\n",
    "for iP, aPenalty in enumerate(pList):\n",
    "    wList[iP+1], bList[iP+1] = lasso_coordinate_descent(Xtrain,ytrain,wList[iP],aPenalty,tol=1e-1)"
   ]
  },
  {
   "cell_type": "code",
   "execution_count": 127,
   "metadata": {},
   "outputs": [],
   "source": []
  },
  {
   "cell_type": "code",
   "execution_count": 128,
   "metadata": {},
   "outputs": [],
   "source": [
    "val_error = [sum_sqr_error(w,b,Xval,yval) for w,b in zip(wList[1:],bList[1:])]\n",
    "train_error = [sum_sqr_error(w,b,Xtrain,ytrain) for w,b in zip(wList[1:],bList[1:])]"
   ]
  },
  {
   "cell_type": "code",
   "execution_count": 129,
   "metadata": {},
   "outputs": [
    {
     "data": {
      "image/png": "[encoded data removed]",
      "text/plain": [
       "<Figure size 864x288 with 2 Axes>"
      ]
     },
     "metadata": {
      "needs_background": "light"
     },
     "output_type": "display_data"
    }
   ],
   "source": [
    "fig, ax = plt.subplots(1,2,figsize=[12,4])\n",
    "fig.subplots_adjust(wspace=0.5)\n",
    "ax[0].plot(pList, train_error)\n",
    "ax[0].plot(pList, val_error)\n",
    "ax[0].legend(['Training Error','Validation Error'], fontsize=14)\n",
    "ax[0].set_xscale('log')\n",
    "ax[0].invert_xaxis()\n",
    "ax[0].set_xlabel('$\\lambda$', fontsize=18)\n",
    "ax[0].set_ylabel('Squared error', fontsize=18)\n",
    "\n",
    "ax[1].scatter(pList,[np.sum(w > 0) for w in wList[1:]], color='k')\n",
    "ax[1].set_xlim([1e2,1e-3])\n",
    "ax[1].set_xscale('log')\n",
    "ax[1].set_xlabel('$\\lambda$', fontsize=18)\n",
    "ax[1].set_ylabel('Non-zero features', fontsize=18)\n",
    "\n",
    "fig.savefig('./figs/hw2_4a.png')"
   ]
  },
  {
   "cell_type": "code",
   "execution_count": 147,
   "metadata": {},
   "outputs": [
    {
     "name": "stdout",
     "output_type": "stream",
     "text": [
      "Regularization parameter: 0.064\n",
      "Non-zero features: 242\n",
      "Train: 0.460, Validation: 0.434, Test: 0.515\n"
     ]
    }
   ],
   "source": [
    "p1 = pList[np.argmin(val_error)]\n",
    "w1 = wList[np.argmin(val_error)+1]\n",
    "b1 = bList[np.argmin(val_error)+1]\n",
    "\n",
    "print('Regularization parameter: {:0.3f}'.format(p1))\n",
    "print('Non-zero features: {}'.format(np.sum(w1>0)))\n",
    "print('Train: {:0.3f}, Validation: {:0.3f}, Test: {:0.3f}'\n",
    "      .format(sum_sqr_error(w1,b1,Xtrain,ytrain),\n",
    "              sum_sqr_error(w1,b1,Xval,yval),\n",
    "              sum_sqr_error(w1,b1,Xtest,ytest)))"
   ]
  },
  {
   "cell_type": "code",
   "execution_count": 156,
   "metadata": {},
   "outputs": [
    {
     "name": "stdout",
     "output_type": "stream",
     "text": [
      "sq(UserNumReviews*BusinessIsOpen)\n",
      "sq(ReviewDate*UserNumReviews)\n",
      "ReviewDate*UserNumReviews\n",
      "UserNumReviews*BusinessLatitude\n",
      "ReviewNumCharacters*BusinessLongitude\n",
      "ReviewNumStars*UserNumReviews\n",
      "sq(ReviewNumWords*UserNumReviews)\n",
      "IsFood*InScottsdale\n",
      "ReviewInFall*InMesa\n",
      "ReviewInSpring*UserFunnyVotes\n"
     ]
    }
   ],
   "source": [
    "top10 = w1.argsort()[:10]\n",
    "[print(featureNames[i]) for i in top10];"
   ]
  },
  {
   "cell_type": "code",
   "execution_count": null,
   "metadata": {},
   "outputs": [],
   "source": []
  }
 ],
 "metadata": {
  "kernelspec": {
   "display_name": "Python 3",
   "language": "python",
   "name": "python3"
  },
  "language_info": {
   "codemirror_mode": {
    "name": "ipython",
    "version": 3
   },
   "file_extension": ".py",
   "mimetype": "text/x-python",
   "name": "python",
   "nbconvert_exporter": "python",
   "pygments_lexer": "ipython3",
   "version": "3.7.0"
  }
 },
 "nbformat": 4,
 "nbformat_minor": 2
}
