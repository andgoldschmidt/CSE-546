{
 "cells": [
  {
   "cell_type": "code",
   "execution_count": 1,
   "metadata": {},
   "outputs": [],
   "source": [
    "import numpy as np\n",
    "import matplotlib.pyplot as plt\n",
    "import scipy.stats as st\n",
    "%matplotlib inline"
   ]
  },
  {
   "cell_type": "code",
   "execution_count": 3,
   "metadata": {},
   "outputs": [],
   "source": [
    "from mnist import MNIST"
   ]
  },
  {
   "cell_type": "code",
   "execution_count": 4,
   "metadata": {},
   "outputs": [],
   "source": [
    "mndata = MNIST(r'./data/')\n",
    "X_train, labels_train = map(np.array, mndata.load_training())\n",
    "X_test, labels_test = map(np.array, mndata.load_testing())\n",
    "X_train = X_train/255.0\n",
    "X_test = X_test/255.0"
   ]
  },
  {
   "cell_type": "code",
   "execution_count": 4,
   "metadata": {},
   "outputs": [],
   "source": [
    "def oneHotEncoding(labels, k):\n",
    "    '''\n",
    "    Returns n by k matrix, where  n is the number of items and k is the number of categories.\n",
    "    '''\n",
    "    matrix = np.zeros([len(labels),k])\n",
    "    matrix[[i for i in range(len(labels))], labels] = 1\n",
    "    return matrix"
   ]
  },
  {
   "cell_type": "markdown",
   "metadata": {},
   "source": [
    "Each image is a 28 by 28 array."
   ]
  },
  {
   "cell_type": "code",
   "execution_count": 5,
   "metadata": {},
   "outputs": [
    {
     "data": {
      "text/plain": [
       "<matplotlib.image.AxesImage at 0x26b4a764a58>"
      ]
     },
     "execution_count": 5,
     "metadata": {},
     "output_type": "execute_result"
    },
    {
     "data": {
      "image/png": "[encoded data removed]",
      "text/plain": [
       "<Figure size 432x288 with 1 Axes>"
      ]
     },
     "metadata": {
      "needs_background": "light"
     },
     "output_type": "display_data"
    }
   ],
   "source": [
    "plt.imshow(X_train[0].reshape([28,28]))"
   ]
  },
  {
   "cell_type": "code",
   "execution_count": 6,
   "metadata": {},
   "outputs": [],
   "source": [
    "def train(Xtrain_n_d, Y_n_k, regularization=10e-4):\n",
    "    '''\n",
    "    Returns the linear classifier W \\in R^(d \\cross k) that minimizes the regularized least square objective \n",
    "    '''\n",
    "    return np.linalg.solve(Xtrain_n_d.T@Xtrain_n_d + regularization*np.identity(Xtrain_n_d.shape[1]),\n",
    "                           Xtrain_n_d.T@Y_n_k)"
   ]
  },
  {
   "cell_type": "code",
   "execution_count": 9,
   "metadata": {},
   "outputs": [],
   "source": [
    "def classify(W, xi):\n",
    "    v = W.T@xi\n",
    "    return v.tolist().index(max(v))"
   ]
  },
  {
   "cell_type": "code",
   "execution_count": 8,
   "metadata": {},
   "outputs": [],
   "source": [
    "def predict(W_d_k, Xtest_m_d):\n",
    "    return [classify(W_d_k, x_row) for x_row in Xtest_m_d]"
   ]
  },
  {
   "cell_type": "code",
   "execution_count": 7,
   "metadata": {},
   "outputs": [],
   "source": [
    "def cError(predicted, actual):\n",
    "    return np.sum(predicted == actual)/len(actual)"
   ]
  },
  {
   "cell_type": "code",
   "execution_count": 10,
   "metadata": {},
   "outputs": [
    {
     "name": "stdout",
     "output_type": "stream",
     "text": [
      "(60000, 784) (10000, 784)\n"
     ]
    }
   ],
   "source": [
    "print(X_train.shape, X_test.shape)"
   ]
  },
  {
   "cell_type": "code",
   "execution_count": 14,
   "metadata": {},
   "outputs": [
    {
     "name": "stdout",
     "output_type": "stream",
     "text": [
      "Training Error: 0.8519833333333333\n",
      "Test Error: 0.8533\n"
     ]
    }
   ],
   "source": [
    "W_hat = train(X_train, oneHotEncoding(labels_train, 10))\n",
    "print('Training Error: {}'.format(cError(predict(W_hat, X_train), labels_train)))\n",
    "print('Test Error: {}'.format(cError(predict(W_hat, X_test), labels_test)))"
   ]
  },
  {
   "cell_type": "code",
   "execution_count": 16,
   "metadata": {},
   "outputs": [],
   "source": [
    "def kCrossValidationSplit(data, labels, percentFirst):\n",
    "    splitIndex = int(percentFirst*len(data))\n",
    "    shuffledIndices = np.random.permutation(len(data))\n",
    "    shuffledData = data[shuffledIndices] # shuffles on first index only\n",
    "    shuffledLabels = labels[shuffledIndices]\n",
    "    return {'data_train': shuffledData[:splitIndex],\n",
    "            'data_test': shuffledData[splitIndex:],\n",
    "            'labels_train': shuffledLabels[:splitIndex], \n",
    "            'labels_test': shuffledLabels[splitIndex:],\n",
    "            'indices': shuffledIndices}"
   ]
  },
  {
   "cell_type": "code",
   "execution_count": 15,
   "metadata": {},
   "outputs": [],
   "source": [
    "make_plot=False\n",
    "if make_plot:\n",
    "    d = len(X_train[0])\n",
    "    kSplit = kCrossValidationSplit(X_train, labels_train, .8)\n",
    "    saveData = {'p':[], 'training_error': []}\n",
    "    pValues = [a for a in range(25,500,25)]\n",
    "    pValues.extend([a for a in range(500,3001,250)])\n",
    "\n",
    "    for p in pValues:\n",
    "        b = np.random.rand(p)*2*np.pi\n",
    "        G = np.sqrt(.1)*np.random.randn(p,d)\n",
    "\n",
    "        Wp_hat = train(np.array([np.cos(G@x+b) for x in kSplit['data_train']]), oneHotEncoding(kSplit['labels_train'], 10))\n",
    "        ktest_predict = predict(Wp_hat, np.array([np.cos(G@x+b) for x in kSplit['data_test']]))\n",
    "        saveData['p'].append(p)\n",
    "        saveData['training_error'].append(cError(ktest_predict, kSplit['labels_test']))\n",
    "        del(Wp_hat,ktest_predict)\n",
    "\n",
    "    ind = np.argsort(saveData['p'])\n",
    "    plt.plot([saveData['p'][i] for i in ind],[saveData['training_error'][i] for i in ind], lw=3)\n",
    "    plt.grid(True)\n",
    "    plt.xlabel('p')\n",
    "    plt.ylabel('Classification Test Error')\n",
    "    plt.ylim([0,1])\n",
    "    plt.savefig(r'./data/plot_p5.png')"
   ]
  },
  {
   "cell_type": "code",
   "execution_count": null,
   "metadata": {},
   "outputs": [],
   "source": [
    "def hoeffdingsCI(confidence, testSize):\n",
    "    return np.sqrt(np.log(2/(1-confidence))/2/testSize)\n",
    "conf = hoeffdingsCI(0.95, len(labels_test))\n",
    "\n",
    "p = 2000\n",
    "d = len(X_train[0])\n",
    "b = np.random.rand(p)*2*np.pi\n",
    "G = np.sqrt(.1)*np.random.randn(p,d)\n",
    "\n",
    "Wp_hat = train(np.array([np.cos(G@x+b) for x in X_train]),\n",
    "               oneHotEncoding(labels_train, 10))\n",
    "test_predict = predict(Wp_hat, np.array([np.cos(G@x+b) for x in X_test]))\n",
    "del(Wp_hat)\n",
    "\n",
    "error = cError(test_predict, labels_train)\n",
    "print('E_test={} +/- ConfidenceInterval={}'.format(hoeffdingsCI(0.95, len(labels_test))))"
   ]
  },
  {
   "cell_type": "code",
   "execution_count": 258,
   "metadata": {},
   "outputs": [
    {
     "data": {
      "text/plain": [
       "0.013581015157406192"
      ]
     },
     "execution_count": 258,
     "metadata": {},
     "output_type": "execute_result"
    }
   ],
   "source": [
    "hoeffdingsConfidenceInterval(0.95, len(labels_test))"
   ]
  },
  {
   "cell_type": "code",
   "execution_count": null,
   "metadata": {},
   "outputs": [],
   "source": []
  }
 ],
 "metadata": {
  "kernelspec": {
   "display_name": "Python 3",
   "language": "python",
   "name": "python3"
  },
  "language_info": {
   "codemirror_mode": {
    "name": "ipython",
    "version": 3
   },
   "file_extension": ".py",
   "mimetype": "text/x-python",
   "name": "python",
   "nbconvert_exporter": "python",
   "pygments_lexer": "ipython3",
   "version": "3.7.0"
  }
 },
 "nbformat": 4,
 "nbformat_minor": 2
}
