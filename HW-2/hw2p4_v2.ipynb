{
 "cells": [
  {
   "cell_type": "code",
   "execution_count": 5,
   "metadata": {},
   "outputs": [],
   "source": [
    "import numpy as np\n",
    "import matplotlib.pyplot as plt"
   ]
  },
  {
   "cell_type": "markdown",
   "metadata": {},
   "source": [
    "X = (n'd)\n",
    "\n",
    "Y = (n'1)\n",
    "\n",
    "w = (d'1)\n",
    "\n",
    "b = (n'1)\n",
    "\n",
    "argmin sum(X.w+b-y)^2 + penalty.sum(abs(y))"
   ]
  },
  {
   "cell_type": "code",
   "execution_count": 6,
   "metadata": {},
   "outputs": [],
   "source": [
    "def compute_objective(X, y, w, b, penalty):\n",
    "    return np.sum(np.square(X@w+b-y)) + penalty*np.sum(np.abs(w))"
   ]
  },
  {
   "cell_type": "code",
   "execution_count": 15,
   "metadata": {},
   "outputs": [],
   "source": [
    "def update_b(X,y,w):\n",
    "    n,_ = X.shape\n",
    "    return np.sum(y - X@w)/n"
   ]
  },
  {
   "cell_type": "code",
   "execution_count": 12,
   "metadata": {},
   "outputs": [],
   "source": [
    "def lasso_coordinate_descent(X,y,w0,penalty,tol, debug=False):\n",
    "    n,d = X.shape\n",
    "    a = np.zeros(d)\n",
    "    c = np.zeros(d)\n",
    "    w_new = np.copy(w0)\n",
    "    \n",
    "    gradient_descending = True\n",
    "    while gradient_descending:\n",
    "        w_old = np.copy(w_new)\n",
    "        b = update_b(X,y,w_new)\n",
    "        for k in range(d):\n",
    "            a[k] = 2*np.sum(np.power(X[:,k],2))\n",
    "            c[k] = np.sum(X[:,k]*(y - (b + X@w_new - X[:,k]*w_new[k])))\n",
    "            \n",
    "            if c[k] > penalty:\n",
    "                w_new[k] = (c[k] - penalty)/a[k]\n",
    "            elif c[k] < -penalty:\n",
    "                w_new[k] = (c[k] + penalty)/a[k]\n",
    "            else:\n",
    "                w_new[k] = 0\n",
    "                \n",
    "        if debug:\n",
    "            obj = compute_objective(X, y, w_new, b, penalty)\n",
    "            print('obj: {}, w: {}'.format(obj, np.max(np.abs(w_new - w_old))))\n",
    "        # ... if you're not moving more than tol in any component, exit\n",
    "        gradient_descending = np.max(np.abs(w_new - w_old)) > tol\n",
    "    return w_new,b"
   ]
  },
  {
   "cell_type": "code",
   "execution_count": 8,
   "metadata": {},
   "outputs": [],
   "source": [
    "dim_n = 500\n",
    "dim_d = 1000\n",
    "dim_k = 100\n",
    "sig = 1"
   ]
  },
  {
   "cell_type": "code",
   "execution_count": 16,
   "metadata": {},
   "outputs": [],
   "source": [
    "# This sets up the data!\n",
    "np.random.seed(1)\n",
    "X_data = np.random.randn(dim_n, dim_d)\n",
    "eps = sig*np.random.randn(dim_n)\n",
    "\n",
    "w_exact = np.array([j/dim_k if j < dim_k else 0 for j in range(1,dim_d+1)])\n",
    "y_data = np.dot(X_data,w_exact)+eps\n",
    "\n",
    "w0 = np.random.rand(dim_d)\n",
    "b = update_b(X_data,y_data, w0)"
   ]
  },
  {
   "cell_type": "code",
   "execution_count": 17,
   "metadata": {},
   "outputs": [
    {
     "data": {
      "text/plain": [
       "1511.7600099034335"
      ]
     },
     "execution_count": 17,
     "metadata": {},
     "output_type": "execute_result"
    }
   ],
   "source": [
    "# Largest penalty\n",
    "penalty_max = 2*np.max(np.abs(X_data.T@(y_data-np.mean(y_data))))\n",
    "penalty_max"
   ]
  },
  {
   "cell_type": "code",
   "execution_count": 30,
   "metadata": {},
   "outputs": [],
   "source": [
    "wList = []\n",
    "bList = []\n",
    "pList = [penalty_max/np.power(3,i) for i in range(10)]\n",
    "for aPenalty in pList:\n",
    "    w, b = lasso_coordinate_descent(X_data,y_data,w0,aPenalty,tol=1e-1)\n",
    "    wList.append(w)\n",
    "    bList.append(b)"
   ]
  },
  {
   "cell_type": "code",
   "execution_count": 44,
   "metadata": {},
   "outputs": [
    {
     "data": {
      "image/png": "[encoded data removed]",
      "text/plain": [
       "<Figure size 432x288 with 1 Axes>"
      ]
     },
     "metadata": {
      "needs_background": "light"
     },
     "output_type": "display_data"
    }
   ],
   "source": [
    "fig, ax = plt.subplots(1)\n",
    "ax.plot(pList, [np.sum(w>0) for w in wList], lw=5)\n",
    "ax.grid(True)\n",
    "ax.set_xlabel('$\\lambda$', fontsize=18)\n",
    "ax.set_ylabel('Non-zero features', fontsize=18)\n",
    "ax.set_xscale('log')\n",
    "fig.savefig('prob3_1.png')"
   ]
  },
  {
   "cell_type": "code",
   "execution_count": 57,
   "metadata": {},
   "outputs": [
    {
     "data": {
      "image/png": "[encoded data removed]",
      "text/plain": [
       "<Figure size 432x288 with 1 Axes>"
      ]
     },
     "metadata": {
      "needs_background": "light"
     },
     "output_type": "display_data"
    }
   ],
   "source": [
    "n_nonzero = np.sum(w_exact > 0)\n",
    "n_zero =  np.sum(w_exact == 0)\n",
    "\n",
    "FDR = [np.sum(w[dim_k:]>0)/(dim_d-dim_k) for w in wList]\n",
    "TPR = [np.sum(w[:dim_k]>0)/dim_k for w in wList]\n",
    "\n",
    "fig, ax = plt.subplots(1)\n",
    "ax.scatter(FDR, TPR, lw=5)\n",
    "ax.grid(True)\n",
    "ax.set_xlabel('False-disovery rate', fontsize=18)\n",
    "ax.set_ylabel('True-positive rate', fontsize=18)\n",
    "fig.savefig('prob3_2.png')"
   ]
  },
  {
   "cell_type": "code",
   "execution_count": 45,
   "metadata": {},
   "outputs": [],
   "source": []
  },
  {
   "cell_type": "code",
   "execution_count": null,
   "metadata": {},
   "outputs": [],
   "source": []
  }
 ],
 "metadata": {
  "kernelspec": {
   "display_name": "Python 3",
   "language": "python",
   "name": "python3"
  },
  "language_info": {
   "codemirror_mode": {
    "name": "ipython",
    "version": 3
   },
   "file_extension": ".py",
   "mimetype": "text/x-python",
   "name": "python",
   "nbconvert_exporter": "python",
   "pygments_lexer": "ipython3",
   "version": "3.7.0"
  }
 },
 "nbformat": 4,
 "nbformat_minor": 2
}
