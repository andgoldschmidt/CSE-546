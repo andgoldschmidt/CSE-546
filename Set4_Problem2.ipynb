{
 "cells": [
  {
   "cell_type": "code",
   "execution_count": 56,
   "metadata": {},
   "outputs": [],
   "source": [
    "import numpy as np\n",
    "import cvxpy as cp\n",
    "import matplotlib.pyplot as plt\n",
    "from itertools import compress, combinations\n",
    "%matplotlib inline"
   ]
  },
  {
   "cell_type": "code",
   "execution_count": 2,
   "metadata": {},
   "outputs": [],
   "source": [
    "n = 50"
   ]
  },
  {
   "cell_type": "code",
   "execution_count": 3,
   "metadata": {},
   "outputs": [],
   "source": [
    "def function(x):\n",
    "    '''\n",
    "    Array-friendly 4-step function on [0,1.]\n",
    "    '''\n",
    "    return 10*np.sum([x >= k/5 for k in [1,2,3,4]], axis=0)"
   ]
  },
  {
   "cell_type": "code",
   "execution_count": 17,
   "metadata": {},
   "outputs": [],
   "source": [
    "def D(z):\n",
    "    '''\n",
    "    if n=len(z), matrix D is linear map from R^n to R^(n-1)\n",
    "    '''\n",
    "    return z[1:] - z[:-1]\n",
    "\n",
    "def k_rbf(x,z,gamma):\n",
    "    '''\n",
    "    rbf (gaussian kernel)\n",
    "    '''\n",
    "    return np.exp(-gamma*np.square(x-z))"
   ]
  },
  {
   "cell_type": "code",
   "execution_count": 5,
   "metadata": {},
   "outputs": [],
   "source": [
    "x_data = np.array([(i-1)/(n-1) for i in range(1,n+1)])\n",
    "np.random.seed(1)\n",
    "y_data = np.array([0 if i==25 else 1 for i in range(1,n+1)])*(function(x_data) + np.random.randn(n))"
   ]
  },
  {
   "cell_type": "code",
   "execution_count": 6,
   "metadata": {},
   "outputs": [
    {
     "data": {
      "text/plain": [
       "<matplotlib.collections.PathCollection at 0x7f94d5253cf8>"
      ]
     },
     "execution_count": 6,
     "metadata": {},
     "output_type": "execute_result"
    },
    {
     "data": {
      "image/png": "[encoded data removed]",
      "text/plain": [
       "<Figure size 432x288 with 1 Axes>"
      ]
     },
     "metadata": {
      "needs_background": "light"
     },
     "output_type": "display_data"
    }
   ],
   "source": [
    "x = np.linspace(0,1,100)\n",
    "plt.plot(x, function(x))\n",
    "plt.scatter(x_data, y_data)"
   ]
  },
  {
   "cell_type": "markdown",
   "metadata": {},
   "source": [
    "\"DCP errors [discplined convex programming errors] can occur if K is non-symmetric (solved by doing (K+K')/2) or has negative eigenvalues (but very very very small negative just due to numerical precision). You can either compute the eigenvalue decomposition of K and explciitly set the negative eigenvalues to 0, or add a bit of identity matrix.\" Another solution is to use functions that may have these kinds of protections built in (like quadratic forms)."
   ]
  },
  {
   "cell_type": "code",
   "execution_count": 167,
   "metadata": {},
   "outputs": [],
   "source": [
    "def ls_loss_fn(residuals, params=None):\n",
    "    return cp.pnorm(residuals, p=2)**2\n",
    "\n",
    "def huber_loss_fn(residuals, params):\n",
    "    M = params\n",
    "    return np.sum([i for i in cp.huber(residuals, M)])\n",
    "\n",
    "def huber_loss_fn(residuals, params):\n",
    "    M = params\n",
    "    return np.sum([i for i in cp.huber(residuals, M)])\n",
    "\n",
    "def regularizer(alpha, K):\n",
    "    return cp.quad_form(alpha, K)"
   ]
  },
  {
   "cell_type": "code",
   "execution_count": 110,
   "metadata": {},
   "outputs": [],
   "source": [
    "def cvx_kernel_1d(x, y, loss_fn, loss_params, kernel, k_params, lambd):\n",
    "    '''\n",
    "    Return function that computes sum over all alpha-weighted kernel data vectors \n",
    "    for each new x (each x_p in possible many x_predict).\n",
    "    \n",
    "    Notes on cvxpy:\n",
    "    (1) The optimal objective value is returned by `cp.Problem.solve()`.\n",
    "    (2) After solve, optimal value for alpha is stored in `alpha.value`.\n",
    "    \n",
    "    @requires loss_fn take args (residuals,*loss_params)\n",
    "    Expect that x_predict is an iterable of x_p data\n",
    "    '''\n",
    "    xi, xj = np.meshgrid(x, x)\n",
    "    K = kernel(xi, xj, k_params)\n",
    "    \n",
    "    alpha = cp.Variable(len(x))\n",
    "    _lambd = cp.Parameter(nonneg=True)\n",
    "    _lambd.value = lambd\n",
    "    \n",
    "    residuals = cp.matmul(K, alpha) - y\n",
    "    objective = cp.Minimize(loss_fn(residuals, loss_params) + _lambd*regularizer(alpha, K))\n",
    "    prob = cp.Problem(objective)\n",
    "    prob.solve()\n",
    "    \n",
    "    return lambda x_predict: np.array([np.sum(alpha.value*kernel(x, x_p, k_params))\n",
    "                                       for x_p in x_predict])"
   ]
  },
  {
   "cell_type": "code",
   "execution_count": 140,
   "metadata": {},
   "outputs": [],
   "source": [
    "def k_fold_cv(k, x, y, loss_fn, loss_params, kernel, k_params, lambd):\n",
    "    '''\n",
    "    Returns the average loss of the k-fold cross validation.\n",
    "    @requires len(x)/k in integers (creates len(x)/k folds)\n",
    "    '''\n",
    "    n = len(x)\n",
    "    indices = np.arange(n).astype(int)\n",
    "    k_folds = np.random.permutation(indices).reshape(int(n/k), k) # Each row is a k-fold. \n",
    "    k_loss = np.zeros(int(n/k))\n",
    "    for i, k_validation in enumerate(k_folds):\n",
    "        select_train = np.ones(n).astype(int)\n",
    "        select_train[k_validation] = 0\n",
    "        x_train = np.array([xi for xi in compress(x, select_train)])\n",
    "        y_train = np.array([yi for yi in compress(y, select_train)])\n",
    "        \n",
    "        f_hat_k = cvx_kernel_1d(x_train, y_train, loss_fn, loss_params, kernel, k_params, lambd)\n",
    "        \n",
    "        residuals = y[k_validation]-f_hat_k(x[k_validation])\n",
    "        k_loss[i] = (loss_fn(residuals, loss_params)/len(k_validation)).value\n",
    "    return np.mean(k_loss)"
   ]
  },
  {
   "cell_type": "code",
   "execution_count": 137,
   "metadata": {},
   "outputs": [
    {
     "name": "stdout",
     "output_type": "stream",
     "text": [
      "10.671111111111111\n"
     ]
    }
   ],
   "source": [
    "gamma_h = 1/np.median([(i[0]-i[1])**2 for i in combinations(x_data,2)]) # Use the heuristic\n",
    "print(gamma_h)"
   ]
  },
  {
   "cell_type": "code",
   "execution_count": 161,
   "metadata": {},
   "outputs": [],
   "source": [
    "g_max = 1000\n",
    "g_min = 1\n",
    "\n",
    "lambd_max = 5\n",
    "lambd_min = .005\n",
    "\n",
    "best_error_ls = np.inf\n",
    "best_ls = []\n",
    "\n",
    "for i in range(100):\n",
    "    gamma0 = np.random.rand()*(g_max-g_min) + g_min\n",
    "    lambd0 = np.random.rand()*(lambd_max-lambd_min) + lambd_min\n",
    "    error = k_fold_cv(5, x_data, y_data, ls_loss_fn, None, k_rbf, gamma0, lambd0)\n",
    "    if error < best_error_ls:\n",
    "        best_error_ls = error\n",
    "        best_ls = [gamma0, lambd0, M0]"
   ]
  },
  {
   "cell_type": "code",
   "execution_count": 164,
   "metadata": {},
   "outputs": [
    {
     "name": "stdout",
     "output_type": "stream",
     "text": [
      "gamma\t lambda\t error\n",
      "[179.33585048619673, 0.012758389675679126, 5.208099654210848] 18.0383223735846\n"
     ]
    },
    {
     "data": {
      "text/plain": [
       "[<matplotlib.lines.Line2D at 0x7f94d3689240>]"
      ]
     },
     "execution_count": 164,
     "metadata": {},
     "output_type": "execute_result"
    },
    {
     "data": {
      "image/png": "[encoded data removed]",
      "text/plain": [
       "<Figure size 432x288 with 1 Axes>"
      ]
     },
     "metadata": {
      "needs_background": "light"
     },
     "output_type": "display_data"
    }
   ],
   "source": [
    "print('gamma\\t lambda\\t error')\n",
    "print(best_ls, best_error_ls)\n",
    "f_hat = cvx_kernel_1d(x_data, y_data, \n",
    "                      loss_fn=ls_loss_fn, loss_params=None,\n",
    "                      kernel=k_rbf, k_params=best_ls[0], lambd=best_ls[1])\n",
    "\n",
    "plt.plot(x, function(x))\n",
    "plt.scatter(x_data, y_data)\n",
    "plt.plot(x, f_hat(x))"
   ]
  },
  {
   "cell_type": "code",
   "execution_count": 165,
   "metadata": {},
   "outputs": [],
   "source": [
    "g_max = 1000\n",
    "g_min = 1\n",
    "\n",
    "lambd_max = 5\n",
    "lambd_min = .005\n",
    "\n",
    "M_max = 10\n",
    "M_min = .1\n",
    "\n",
    "best_huber = []\n",
    "best_error_huber = np.inf\n",
    "\n",
    "for i in range(100):\n",
    "    gamma0 = np.random.rand()*(g_max-g_min) + g_min\n",
    "    lambd0 = np.random.rand()*(lambd_max-lambd_min) + lambd_min\n",
    "    M0 = np.random.rand()*(M_max-M_min) + M_min\n",
    "    error = k_fold_cv(5, x_data, y_data, huber_loss_fn, M0, k_rbf, gamma0, lambd0)\n",
    "    if error < best_error_huber:\n",
    "        best_error_huber = error\n",
    "        best_huber = [gamma0, lambd0, M0]"
   ]
  },
  {
   "cell_type": "code",
   "execution_count": 166,
   "metadata": {},
   "outputs": [
    {
     "name": "stdout",
     "output_type": "stream",
     "text": [
      "gamma\t lambda\t M\t error\n",
      "[211.24192913487107, 0.02124011738657628, 0.5425240908214689] 2.446577269991375\n"
     ]
    },
    {
     "data": {
      "text/plain": [
       "[<matplotlib.lines.Line2D at 0x7f94d32f49e8>]"
      ]
     },
     "execution_count": 166,
     "metadata": {},
     "output_type": "execute_result"
    },
    {
     "data": {
      "image/png": "[encoded data removed]",
      "text/plain": [
       "<Figure size 432x288 with 1 Axes>"
      ]
     },
     "metadata": {
      "needs_background": "light"
     },
     "output_type": "display_data"
    }
   ],
   "source": [
    "print('gamma\\t lambda\\t M\\t error')\n",
    "print(best_huber, best_error_huber)\n",
    "f_hat = cvx_kernel_1d(x_data, y_data, \n",
    "                      loss_fn=huber_loss_fn, loss_params=best_huber[2],\n",
    "                      kernel=k_rbf, k_params=best_huber[0], lambd=best_huber[1])\n",
    "\n",
    "plt.plot(x, function(x))\n",
    "plt.scatter(x_data, y_data)\n",
    "plt.plot(x, f_hat(x))"
   ]
  },
  {
   "cell_type": "code",
   "execution_count": null,
   "metadata": {},
   "outputs": [],
   "source": []
  }
 ],
 "metadata": {
  "kernelspec": {
   "display_name": "Python 3",
   "language": "python",
   "name": "python3"
  },
  "language_info": {
   "codemirror_mode": {
    "name": "ipython",
    "version": 3
   },
   "file_extension": ".py",
   "mimetype": "text/x-python",
   "name": "python",
   "nbconvert_exporter": "python",
   "pygments_lexer": "ipython3",
   "version": "3.7.1"
  }
 },
 "nbformat": 4,
 "nbformat_minor": 2
}
