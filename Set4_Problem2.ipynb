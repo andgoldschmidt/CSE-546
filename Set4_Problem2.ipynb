{
 "cells": [
  {
   "cell_type": "code",
   "execution_count": 1,
   "metadata": {},
   "outputs": [],
   "source": [
    "import numpy as np\n",
    "import cvxpy as cp\n",
    "import matplotlib.pyplot as plt\n",
    "from itertools import compress, combinations\n",
    "%matplotlib inline"
   ]
  },
  {
   "cell_type": "code",
   "execution_count": 2,
   "metadata": {},
   "outputs": [],
   "source": [
    "n = 50"
   ]
  },
  {
   "cell_type": "code",
   "execution_count": 3,
   "metadata": {},
   "outputs": [],
   "source": [
    "def function(x):\n",
    "    '''\n",
    "    Array-friendly 4-step function on [0,1.]\n",
    "    '''\n",
    "    return 10*np.sum([x >= k/5 for k in [1,2,3,4]], axis=0)"
   ]
  },
  {
   "cell_type": "code",
   "execution_count": 4,
   "metadata": {},
   "outputs": [],
   "source": [
    "def k_rbf(x,z,gamma):\n",
    "    '''\n",
    "    rbf (gaussian kernel)\n",
    "    '''\n",
    "    return np.exp(-gamma*np.square(x-z))"
   ]
  },
  {
   "cell_type": "code",
   "execution_count": 5,
   "metadata": {},
   "outputs": [],
   "source": [
    "x_data = np.array([(i-1)/(n-1) for i in range(1,n+1)])\n",
    "np.random.seed(1)\n",
    "y_data = np.array([0 if i==25 else 1 for i in range(1,n+1)])*(function(x_data) + np.random.randn(n))"
   ]
  },
  {
   "cell_type": "code",
   "execution_count": 6,
   "metadata": {},
   "outputs": [
    {
     "data": {
      "text/plain": [
       "<matplotlib.collections.PathCollection at 0x7fcc7b96f4e0>"
      ]
     },
     "execution_count": 6,
     "metadata": {},
     "output_type": "execute_result"
    },
    {
     "data": {
      "image/png": "[encoded data removed]",
      "text/plain": [
       "<Figure size 432x288 with 1 Axes>"
      ]
     },
     "metadata": {
      "needs_background": "light"
     },
     "output_type": "display_data"
    }
   ],
   "source": [
    "x = np.linspace(0,1,100)\n",
    "plt.plot(x, function(x))\n",
    "plt.scatter(x_data, y_data)"
   ]
  },
  {
   "cell_type": "markdown",
   "metadata": {},
   "source": [
    "\"DCP errors [discplined convex programming errors] can occur if K is non-symmetric (solved by doing (K+K')/2) or has negative eigenvalues (but very very very small negative just due to numerical precision). You can either compute the eigenvalue decomposition of K and explciitly set the negative eigenvalues to 0, or add a bit of identity matrix.\" Another solution is to use functions that may have these kinds of protections built in (like quadratic forms)."
   ]
  },
  {
   "cell_type": "code",
   "execution_count": 7,
   "metadata": {},
   "outputs": [],
   "source": [
    "def ls_loss_fn(residuals, params=None):\n",
    "    return cp.pnorm(residuals, p=2)**2\n",
    "\n",
    "def huber_loss_fn(residuals, params):\n",
    "    M = params\n",
    "    return np.sum([i for i in cp.huber(residuals, M)])\n",
    "\n",
    "def regularizer(alpha, K):\n",
    "    return cp.quad_form(alpha, K)"
   ]
  },
  {
   "cell_type": "code",
   "execution_count": 8,
   "metadata": {},
   "outputs": [],
   "source": [
    "def cvx_kernel_1d(x, y, loss_fn, loss_params, kernel, k_params, lambd):\n",
    "    '''\n",
    "    Return function that computes sum over all alpha-weighted kernel data vectors \n",
    "    for each new x (each x_p in possible many x_predict).\n",
    "    \n",
    "    Notes on cvxpy:\n",
    "    (1) The optimal objective value is returned by `cp.Problem.solve()`.\n",
    "    (2) After solve, optimal value for alpha is stored in `alpha.value`.\n",
    "    \n",
    "    @requires loss_fn take args ([K,alpha,y],*loss_params)\n",
    "    Expect that x_predict is an iterable of x_p data\n",
    "    '''\n",
    "    xi, xj = np.meshgrid(x, x)\n",
    "    K = kernel(xi, xj, k_params)\n",
    "    \n",
    "    alpha = cp.Variable(len(x))\n",
    "    _lambd = cp.Parameter(nonneg=True)\n",
    "    _lambd.value = lambd\n",
    "    \n",
    "    residuals = cp.matmul(K, alpha) - y\n",
    "    objective = cp.Minimize(loss_fn(residuals, loss_params) + _lambd*regularizer(alpha, K))\n",
    "    prob = cp.Problem(objective)\n",
    "    prob.solve()\n",
    "    \n",
    "    return lambda x_predict: np.array([np.sum(alpha.value*kernel(x, x_p, k_params))\n",
    "                                       for x_p in x_predict])"
   ]
  },
  {
   "cell_type": "code",
   "execution_count": 231,
   "metadata": {},
   "outputs": [],
   "source": [
    "def cvx_kernel_1d_type2(x, y, loss_fn, loss_params, kernel, k_params, lambd1, lambd2):\n",
    "    xi, xj = np.meshgrid(x, x)\n",
    "    K = kernel(xi, xj, k_params)\n",
    "    \n",
    "    n = len(x)\n",
    "    alpha = cp.Variable(n)\n",
    "    D = -1*np.identity(n)[:-1] + np.identity(n)[1:]\n",
    "    _lambd1 = cp.Parameter(nonneg=True)\n",
    "    _lambd2 = cp.Parameter(nonneg=True)\n",
    "    _lambd1.value = lambd1\n",
    "    _lambd2.value = lambd2\n",
    "    \n",
    "    residuals = cp.matmul(K, alpha) - y\n",
    "    objective = cp.Minimize(loss_fn(residuals, loss_params) \n",
    "                            + _lambd1 * cp.norm1(cp.matmul(D, cp.matmul(K, alpha)))\n",
    "                            + _lambd2 * regularizer(alpha, K))\n",
    "    prob = cp.Problem(objective)\n",
    "    prob.solve()\n",
    "    \n",
    "    return lambda x_predict: np.array([np.sum(alpha.value*kernel(x, x_p, k_params))\n",
    "                                       for x_p in x_predict])"
   ]
  },
  {
   "cell_type": "code",
   "execution_count": 247,
   "metadata": {},
   "outputs": [],
   "source": [
    "def cvx_kernel_1d_type3(x, y, loss_fn, loss_params, kernel, k_params, lambd):\n",
    "    xi, xj = np.meshgrid(x, x)\n",
    "    K = kernel(xi, xj, k_params)\n",
    "    \n",
    "    n = len(x)\n",
    "    D = -1*np.identity(n)[:-1] + np.identity(n)[1:]\n",
    "    alpha = cp.Variable(n)\n",
    "    _lambd = cp.Parameter(nonneg=True)\n",
    "    _lambd.value = lambd\n",
    "    \n",
    "    residuals = cp.matmul(K, alpha) - y\n",
    "    objective = cp.Minimize(loss_fn(residuals, loss_params) + _lambd*regularizer(alpha, K))\n",
    "    constraints = [cp.matmul(D, cp.matmul(K, alpha)) >= 0]\n",
    "    prob = cp.Problem(objective, constraints)\n",
    "    prob.solve()\n",
    "    \n",
    "    return lambda x_predict: np.array([np.sum(alpha.value*kernel(x, x_p, k_params))\n",
    "                                       for x_p in x_predict])"
   ]
  },
  {
   "cell_type": "code",
   "execution_count": 9,
   "metadata": {},
   "outputs": [],
   "source": [
    "def k_fold_cv(k, x, y, loss_fn, loss_params, kernel, k_params, lambd):\n",
    "    '''\n",
    "    Returns the average loss of the k-fold cross validation.\n",
    "    @requires len(x)/k in integers (creates len(x)/k folds)\n",
    "    '''\n",
    "    n = len(x)\n",
    "    indices = np.arange(n).astype(int)\n",
    "    k_folds = np.random.permutation(indices).reshape(int(n/k), k) # Each row is a k-fold. \n",
    "    k_loss = np.zeros(int(n/k))\n",
    "    for i, k_validation in enumerate(k_folds):\n",
    "        select_train = np.ones(n).astype(int)\n",
    "        select_train[k_validation] = 0\n",
    "        x_train = np.array([xi for xi in compress(x, select_train)])\n",
    "        y_train = np.array([yi for yi in compress(y, select_train)])\n",
    "        \n",
    "        f_hat_k = cvx_kernel_1d(x_train, y_train, loss_fn, loss_params, kernel, k_params, lambd)\n",
    "        \n",
    "        residuals = y[k_validation]-f_hat_k(x[k_validation])\n",
    "        k_loss[i] = (loss_fn(residuals, loss_params)/len(k_validation)).value\n",
    "    return np.mean(k_loss)"
   ]
  },
  {
   "cell_type": "code",
   "execution_count": 229,
   "metadata": {},
   "outputs": [],
   "source": [
    "def k_fold_cv_type2(k, x, y, loss_fn, loss_params, kernel, k_params, lambd1, lambd2):\n",
    "    '''\n",
    "    Returns the average loss of the k-fold cross validation.\n",
    "    @requires len(x)/k in integers (creates len(x)/k folds)\n",
    "    '''\n",
    "    n = len(x)\n",
    "    indices = np.arange(n).astype(int)\n",
    "    k_folds = np.random.permutation(indices).reshape(int(n/k), k) # Each row is a k-fold. \n",
    "    k_loss = np.zeros(int(n/k))\n",
    "    for i, k_validation in enumerate(k_folds):\n",
    "        select_train = np.ones(n).astype(int)\n",
    "        select_train[k_validation] = 0\n",
    "        x_train = np.array([xi for xi in compress(x, select_train)])\n",
    "        y_train = np.array([yi for yi in compress(y, select_train)])\n",
    "        \n",
    "        f_hat_k = cvx_kernel_1d_type2(x_train, y_train, loss_fn, loss_params, kernel, k_params, lambd1, lambd2)\n",
    "        \n",
    "        residuals = y[k_validation]-f_hat_k(x[k_validation])\n",
    "        k_loss[i] = (loss_fn(residuals, loss_params)/len(k_validation)).value\n",
    "    return np.mean(k_loss)"
   ]
  },
  {
   "cell_type": "code",
   "execution_count": 238,
   "metadata": {},
   "outputs": [],
   "source": [
    "def k_fold_cv_type3(k, x, y, loss_fn, loss_params, kernel, k_params, lambd):\n",
    "    n = len(x)\n",
    "    indices = np.arange(n).astype(int)\n",
    "    k_folds = np.random.permutation(indices).reshape(int(n/k), k) # Each row is a k-fold. \n",
    "    k_loss = np.zeros(int(n/k))\n",
    "    for i, k_validation in enumerate(k_folds):\n",
    "        select_train = np.ones(n).astype(int)\n",
    "        select_train[k_validation] = 0\n",
    "        x_train = np.array([xi for xi in compress(x, select_train)])\n",
    "        y_train = np.array([yi for yi in compress(y, select_train)])\n",
    "        \n",
    "        f_hat_k = cvx_kernel_1d_type3(x_train, y_train, loss_fn, loss_params, kernel, k_params, lambd)\n",
    "        \n",
    "        residuals = y[k_validation]-f_hat_k(x[k_validation])\n",
    "        k_loss[i] = (loss_fn(residuals, loss_params)/len(k_validation)).value\n",
    "    return np.mean(k_loss)"
   ]
  },
  {
   "cell_type": "code",
   "execution_count": 137,
   "metadata": {},
   "outputs": [
    {
     "name": "stdout",
     "output_type": "stream",
     "text": [
      "10.671111111111111\n"
     ]
    }
   ],
   "source": [
    "gamma_h = 1/np.median([(i[0]-i[1])**2 for i in combinations(x_data,2)]) # Use the heuristic\n",
    "print(gamma_h)"
   ]
  },
  {
   "cell_type": "markdown",
   "metadata": {},
   "source": [
    "## Part (a)"
   ]
  },
  {
   "cell_type": "code",
   "execution_count": 12,
   "metadata": {},
   "outputs": [],
   "source": [
    "g_max = 1000\n",
    "g_min = 1\n",
    "\n",
    "lambd_max = 5\n",
    "lambd_min = .005\n",
    "\n",
    "best_error_ls = np.inf\n",
    "best_ls = []\n",
    "\n",
    "for i in range(100):\n",
    "    gamma0 = np.random.rand()*(g_max-g_min) + g_min\n",
    "    lambd0 = np.random.rand()*(lambd_max-lambd_min) + lambd_min\n",
    "    error = k_fold_cv(5, x_data, y_data, ls_loss_fn, None, k_rbf, gamma0, lambd0)\n",
    "    if error < best_error_ls:\n",
    "        best_error_ls = error\n",
    "        best_ls = [gamma0, lambd0]"
   ]
  },
  {
   "cell_type": "code",
   "execution_count": 13,
   "metadata": {},
   "outputs": [
    {
     "name": "stdout",
     "output_type": "stream",
     "text": [
      "gamma\t lambda\t error\n",
      "[695.2183730685346, 0.09672965603006618] 26.520705925974255\n"
     ]
    },
    {
     "data": {
      "image/png": "[encoded data removed]",
      "text/plain": [
       "<Figure size 432x288 with 1 Axes>"
      ]
     },
     "metadata": {
      "needs_background": "light"
     },
     "output_type": "display_data"
    }
   ],
   "source": [
    "print('gamma\\t lambda\\t error')\n",
    "print(best_ls, best_error_ls)\n",
    "f_hat = cvx_kernel_1d(x_data, y_data, \n",
    "                      loss_fn=ls_loss_fn, loss_params=None,\n",
    "                      kernel=k_rbf, k_params=best_ls[0], lambd=best_ls[1])\n",
    "\n",
    "plt.plot(x, function(x))\n",
    "plt.scatter(x_data, y_data)\n",
    "plt.plot(x, f_hat(x))\n",
    "plt.legend(['f(x)', '$\\widehat{\\ f\\ }(x)}$', 'Data'], fontsize=16)\n",
    "plt.xlabel('x', fontsize=14)\n",
    "plt.savefig('figs/hw4_2a_ls_plt.pdf')\n",
    "np.savetxt(X=best_ls,fname='figs/hw4_2a_ls.txt')"
   ]
  },
  {
   "cell_type": "markdown",
   "metadata": {},
   "source": [
    "## Part (b)"
   ]
  },
  {
   "cell_type": "code",
   "execution_count": 165,
   "metadata": {},
   "outputs": [],
   "source": [
    "g_max = 1000\n",
    "g_min = 1\n",
    "\n",
    "lambd_max = 5\n",
    "lambd_min = .005\n",
    "\n",
    "M_max = 10\n",
    "M_min = .1\n",
    "\n",
    "best_huber = []\n",
    "best_error_huber = np.inf\n",
    "\n",
    "for i in range(100):\n",
    "    gamma0 = np.random.rand()*(g_max-g_min) + g_min\n",
    "    lambd0 = np.random.rand()*(lambd_max-lambd_min) + lambd_min\n",
    "    M0 = np.random.rand()*(M_max-M_min) + M_min\n",
    "    error = k_fold_cv(5, x_data, y_data, huber_loss_fn, M0, k_rbf, gamma0, lambd0)\n",
    "    if error < best_error_huber:\n",
    "        best_error_huber = error\n",
    "        best_huber = [gamma0, lambd0, M0]"
   ]
  },
  {
   "cell_type": "code",
   "execution_count": 195,
   "metadata": {},
   "outputs": [
    {
     "name": "stdout",
     "output_type": "stream",
     "text": [
      "gamma\t lambda\t M\t error\n",
      "[211.24192913487107, 0.02124011738657628, 0.5425240908214689] 2.446577269991375\n"
     ]
    },
    {
     "data": {
      "image/png": "[encoded data removed]",
      "text/plain": [
       "<Figure size 432x288 with 1 Axes>"
      ]
     },
     "metadata": {
      "needs_background": "light"
     },
     "output_type": "display_data"
    }
   ],
   "source": [
    "print('gamma\\t lambda\\t M\\t error')\n",
    "print(best_huber, best_error_huber)\n",
    "f_hat = cvx_kernel_1d(x_data, y_data, \n",
    "                      loss_fn=huber_loss_fn, loss_params=best_huber[2],\n",
    "                      kernel=k_rbf, k_params=best_huber[0], lambd=best_huber[1])\n",
    "\n",
    "plt.plot(x, function(x))\n",
    "plt.scatter(x_data, y_data)\n",
    "plt.plot(x, f_hat(x))\n",
    "plt.legend(['f(x)', '$\\widehat{\\ f\\ }(x)}$', 'Data'], fontsize=16)\n",
    "plt.xlabel('x', fontsize=14)\n",
    "plt.savefig('figs/hw4_2b_huber_plt.pdf')\n",
    "np.savetxt(X=best_huber,fname='figs/hw4_2b_huber.txt')"
   ]
  },
  {
   "cell_type": "markdown",
   "metadata": {},
   "source": [
    "## Part (c)"
   ]
  },
  {
   "cell_type": "code",
   "execution_count": 236,
   "metadata": {},
   "outputs": [],
   "source": [
    "g_max = 1000\n",
    "g_min = 1\n",
    "\n",
    "lambd1_max = 5\n",
    "lambd1_min = .005\n",
    "\n",
    "lambd2_max = 5\n",
    "lambd2_min = .005\n",
    "\n",
    "best_tv = []\n",
    "best_error_tv = np.inf\n",
    "\n",
    "for i in range(100):\n",
    "    gamma0 = np.random.rand()*(g_max-g_min) + g_min\n",
    "    lambd1 = np.random.rand()*(lambd1_max-lambd1_min) + lambd1_min\n",
    "    lambd2 = np.random.rand()*(lambd2_max-lambd2_min) + lambd2_min\n",
    "    error = k_fold_cv_type2(5, x_data, y_data, ls_loss_fn, None, k_rbf, gamma0, lambd1, lambd2)\n",
    "    if error < best_error_tv:\n",
    "        best_error_tv = error\n",
    "        best_tv = [gamma0, lambd1, lambd2]"
   ]
  },
  {
   "cell_type": "code",
   "execution_count": 237,
   "metadata": {},
   "outputs": [
    {
     "name": "stdout",
     "output_type": "stream",
     "text": [
      "gamma\t lambda1\t lambda2\t error\n",
      "[86.52082151928182, 1.1306168137400177, 0.3220812621248643] 18.153013235327396\n"
     ]
    },
    {
     "data": {
      "image/png": "[encoded data removed]",
      "text/plain": [
       "<Figure size 432x288 with 1 Axes>"
      ]
     },
     "metadata": {
      "needs_background": "light"
     },
     "output_type": "display_data"
    }
   ],
   "source": [
    "print('gamma\\t lambda1\\t lambda2\\t error')\n",
    "print(best_tv, best_error_tv)\n",
    "f_hat = cvx_kernel_1d_type2(x_data, y_data, \n",
    "                      loss_fn=ls_loss_fn, loss_params=None,\n",
    "                      kernel=k_rbf, k_params=best_tv[0],\n",
    "                      lambd1=best_tv[1], lambd2=best_tv[2])\n",
    "\n",
    "plt.plot(x, function(x))\n",
    "plt.scatter(x_data, y_data)\n",
    "plt.plot(x, f_hat(x))\n",
    "plt.legend(['f(x)', '$\\widehat{\\ f\\ }(x)}$', 'Data'], fontsize=16)\n",
    "plt.xlabel('x', fontsize=14)\n",
    "plt.savefig('figs/hw4_2c_tv_plt.pdf')\n",
    "np.savetxt(X=best_tv,fname='figs/hw4_2c_tv.txt')"
   ]
  },
  {
   "cell_type": "markdown",
   "metadata": {},
   "source": [
    "## Part (d)"
   ]
  },
  {
   "cell_type": "code",
   "execution_count": 249,
   "metadata": {},
   "outputs": [],
   "source": [
    "g_max = 1000\n",
    "g_min = 1\n",
    "\n",
    "lambd_max = 5\n",
    "lambd_min = .005\n",
    "\n",
    "best_error_qp = np.inf\n",
    "best_qp = []\n",
    "\n",
    "for i in range(100):\n",
    "    gamma0 = np.random.rand()*(g_max-g_min) + g_min\n",
    "    lambd0 = np.random.rand()*(lambd_max-lambd_min) + lambd_min\n",
    "    error = k_fold_cv_type3(5, x_data, y_data, ls_loss_fn, None, k_rbf, gamma0, lambd0)\n",
    "    if error < best_error_qp:\n",
    "        best_error_qp = error\n",
    "        best_qp = [gamma0, lambd0]"
   ]
  },
  {
   "cell_type": "code",
   "execution_count": 251,
   "metadata": {},
   "outputs": [
    {
     "name": "stdout",
     "output_type": "stream",
     "text": [
      "gamma\t lambda\t \t error\n",
      "[128.1560331161831, 0.0904303869729249] 15.687072382518682\n"
     ]
    },
    {
     "data": {
      "image/png": "[encoded data removed]",
      "text/plain": [
       "<Figure size 432x288 with 1 Axes>"
      ]
     },
     "metadata": {
      "needs_background": "light"
     },
     "output_type": "display_data"
    }
   ],
   "source": [
    "print('gamma\\t lambda\\t \\t error')\n",
    "print(best_qp, best_error_qp)\n",
    "f_hat = cvx_kernel_1d_type3(x_data, y_data, loss_fn=ls_loss_fn, loss_params=None,\n",
    "                            kernel=k_rbf, k_params=best_qp[0], lambd=best_qp[1])\n",
    "\n",
    "plt.plot(x, function(x))\n",
    "plt.scatter(x_data, y_data)\n",
    "plt.plot(x, f_hat(x))\n",
    "plt.legend(['f(x)', '$\\widehat{\\ f\\ }(x)}$', 'Data'], fontsize=16)\n",
    "plt.xlabel('x', fontsize=14)\n",
    "plt.savefig('figs/hw4_2d_qp_plt.pdf')\n",
    "np.savetxt(X=best_tv,fname='figs/hw4_2d_qp.txt')"
   ]
  },
  {
   "cell_type": "code",
   "execution_count": null,
   "metadata": {},
   "outputs": [],
   "source": []
  }
 ],
 "metadata": {
  "kernelspec": {
   "display_name": "Python 3",
   "language": "python",
   "name": "python3"
  },
  "language_info": {
   "codemirror_mode": {
    "name": "ipython",
    "version": 3
   },
   "file_extension": ".py",
   "mimetype": "text/x-python",
   "name": "python",
   "nbconvert_exporter": "python",
   "pygments_lexer": "ipython3",
   "version": "3.7.1"
  }
 },
 "nbformat": 4,
 "nbformat_minor": 2
}
